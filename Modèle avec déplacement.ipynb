{
 "cells": [
  {
   "cell_type": "markdown",
   "metadata": {
    "collapsed": true
   },
   "source": [
    "# Deplacement des individus"
   ]
  },
  {
   "cell_type": "code",
   "execution_count": 16,
   "metadata": {
    "collapsed": true
   },
   "outputs": [],
   "source": [
    "#  grille(n) i.e une fonction qui définira une grille qui representera une population donnee\n",
    "def grille(n):     #  n:taille de la grille\n",
    "    a=np.zeros((n,n),dtype=int) # 0 i.e personnes saines\n",
    "    k=1   # (k=1 et r=1) i.e les indices de la personne infectee qui est l'origine de la propagation de la grippe\n",
    "    r=1\n",
    "    for i in range(n):\n",
    "        if i==k:\n",
    "            for j in range(n):\n",
    "                if j==r:#ani.save('varicelle10.html', writer=\"html\")\n",
    "                    a[i,j]=1     # a[i,j]=1 i.e la personne est infectee\n",
    "    return a"
   ]
  },
  {
   "cell_type": "code",
   "execution_count": 17,
   "metadata": {
    "collapsed": true
   },
   "outputs": [],
   "source": [
    "import numpy as np\n",
    "import random as rd\n",
    "n=5\n",
    "M=grille(n)\n",
    "p=0.5         #probabilité qui gère le déplacement\n",
    "p1=0.5        #probabilité de récuperation \n",
    "p_infect=1    #probabilité de transmission \n",
    "d={(1,1):1}   # dictionnaire qui gère l'incubation\n",
    "temps_incubation=2\n",
    "import random\n",
    "import numpy"
   ]
  },
  {
   "cell_type": "code",
   "execution_count": 18,
   "metadata": {
    "collapsed": true
   },
   "outputs": [],
   "source": [
    "def grille_case_vide(n,M):\n",
    "    #cette fonction sert à définir une grille avec des cases vides pour qu un individu puisse se deplacer\n",
    "    N=grille(n)\n",
    "    for i in range(n):\n",
    "        if( i%2==0 ): #i.e choix des cases vides\n",
    "            for j in range(n):\n",
    "                if(j%2==0):\n",
    "                    N[i,j]=5   # 5 signifie case vide \n",
    "    return N\n",
    "                    "
   ]
  },
  {
   "cell_type": "code",
   "execution_count": 19,
   "metadata": {
    "collapsed": true
   },
   "outputs": [],
   "source": [
    "#cette fonction effectue le déplacement de l'individu aux indices x et y vers une case vide\n",
    "#l'individu se deplacera vers une case vide qui est choisie aleatoirement  parmi un certains nombre de cases vides presentes sur la grille et qui sont enregistrees dans un dictionnaire d \n",
    "\n",
    "def deplacement(N,x,y,p):  \n",
    "    d=[]  #enregistre toutes les cases vides #ani.save('varicelle10.html', writer=\"html\")\n",
    "    \n",
    "    if(N[x,y]!= 5):\n",
    "         if numpy.random.random() <= p: # p: c'est une probabilité qui détermine si l'individu veut se deplacer ou pas \n",
    "            for i in range(n):\n",
    "        \n",
    "                for j in range(n):\n",
    "                    if (N[(i,j)]==5):\n",
    "                        if not (i,j) in d:\n",
    "                            d.append((i,j))\n",
    "            (k,l)=random.choice(d)\n",
    "            \n",
    "            N[k,l]=N[x,y]\n",
    "            N[x,y]=5    \n",
    "    \n",
    "    return N\n",
    "        "
   ]
  },
  {
   "cell_type": "code",
   "execution_count": 20,
   "metadata": {
    "collapsed": true
   },
   "outputs": [],
   "source": [
    "def next_step_deplacement(N): #i.e  pour chaque individu on effectuera un deplacement \n",
    "    for i in range(n):\n",
    "        for j in range(n):\n",
    "             deplacement(N,i,j,p)\n",
    "             \n",
    "    \n",
    "    return N   # une nouvelle grille après le deplacement des individus\n",
    "            "
   ]
  },
  {
   "cell_type": "code",
   "execution_count": 26,
   "metadata": {
    "collapsed": true
   },
   "outputs": [],
   "source": [
    "def etat_incubation_deplacement(resultat, p1, p_infect, x, y, temps_incubation, dictio):\n",
    "    # c'est une fonction qui determinera l'état d'un individu aux indices x et y en fonction de ces 8 voisins\n",
    "    # dictio : un dictionnaire qui enregistre les personnes infectees et prennent comme valeur nb de jour depuis quand ils etaient infectees\n",
    "    \n",
    "    L=[(1,0),(-1,0),(0,1),(0,-1),(1,-1),(1,1),(-1,1),(-1,-1)] #i.e une liste qui permet d'avoir les indices des 8 voisins \n",
    "    voisin_infecte=0\n",
    "    \n",
    "    \n",
    "                \n",
    "    if resultat[x,y] ==2 :      # i.e personne rétablie\n",
    "        resultat[x,y]=2 # i.e reste rétablie\n",
    "    \n",
    "    elif resultat[x,y] ==3:     #i.e personne décédée\n",
    "        resultat[x,y] =3  #i.e reste décédée\n",
    "        \n",
    "    \n",
    "    elif resultat[x,y]==5:      #i.e cases vides\n",
    "        resultat[x,y]=5  # i.e reste vide \n",
    "        \n",
    "    elif resultat[x,y]==0:    # i.e personne saine\n",
    "        \n",
    "        for (dx, dy) in L: #i.e pour chaque voisin\n",
    "            \n",
    "            if x+dx<n and x+dx>=0 and y+dy<n and y+dy>=0: # gestion des bords\n",
    "                if resultat[x+dx,y+dy]==1 :  # i.e voisin infecte                                         \n",
    "                        voisin_infecte=voisin_infecte+1\n",
    "                        \n",
    "    # gerer l'infection de la personne.\n",
    "    if voisin_infecte>0:\n",
    "        if numpy.random.random() <= p_infect:  #i.e p_infect:probabilite d'infecter un individu sain\n",
    "            resultat[x,y]=1\n",
    "    \n",
    "    #gerer l'incubation de la personne.\n",
    "    \n",
    "    if resultat[x,y]==1:  #i.e infectee\n",
    "    # Incrémente le compteur de tous les malades :dictio=dict()\n",
    "        if (x,y) in dictio :\n",
    "            dictio[(x,y)]=dictio[(x,y)]+1   # On entre en incubation \n",
    "    \n",
    "    \n",
    "        else:\n",
    "            # Nouvel infecté : on le rajoute au dictionnaire\n",
    "            dictio[(x,y)]=1   \n",
    "  \n",
    "    # En incubation depuis \"temps_incubation\" tours : on devient soit rétabli soit décédé selon une propabilité  p1\n",
    "    if (x,y) in dictio and dictio[(x,y)] >= temps_incubation:\n",
    "        if numpy.random.random() <= p1:\n",
    "            resultat[x,y]=3  #decede\n",
    "        else:\n",
    "            resultat[x,y]=2  #retabli\n",
    "        \n",
    "        dictio.pop((x,y))\n",
    "            \n",
    "    \n",
    "    return resultat,dictio"
   ]
  },
  {
   "cell_type": "code",
   "execution_count": 27,
   "metadata": {
    "collapsed": true
   },
   "outputs": [],
   "source": [
    "def next_step_incubation_deplacement(resultat,d):   #resultat i.e matrice   #d: i.e un dictionnaire qui enregistre les les individus infectes comme cles et ils prennent comme valeur depuis combien de jours ils étaient infectes\n",
    "    #cette fonction determine l'etat de chaque individu de la grille en appelant la fonction precedente etat_incubation_deplacement\n",
    "    for i in range(n):  \n",
    "        \n",
    "        for j in range(n):\n",
    "            \n",
    "            resultat,d =etat_incubation_deplacement(resultat,p1,p_infect,i,j,temps_incubation,d)\n",
    "    \n",
    "    return resultat"
   ]
  },
  {
   "cell_type": "code",
   "execution_count": 28,
   "metadata": {
    "collapsed": true
   },
   "outputs": [],
   "source": [
    "def simulation(max_itere=10):\n",
    "   \n",
    "    cpt=0\n",
    "    M=grille(n)\n",
    "    N=grille_case_vide(n,M) # grille avec des cases vides pour que les personnes puissent se deplacer\n",
    "    result= next_step_deplacement(N) # une grille où les personnes se sont deplacer \n",
    "    d={(1,1):1}   #un dictionnaire qui enregistre les personnes infectees et prennent comme valeurle nb de jours  depuis quand ils etaient infectees\n",
    "    resultat=[]\n",
    "    resultat.append((N).copy())\n",
    "    resultat.append((result).copy())\n",
    "    new_state=next_step_incubation_deplacement(result,d)\n",
    "    while(cpt<max_itere):\n",
    "        resultat.append((new_state).copy())\n",
    "        new_state= next_step_incubation_deplacement(new_state,d)\n",
    "        cpt = cpt+1\n",
    "        \n",
    "    return resultat"
   ]
  },
  {
   "cell_type": "code",
   "execution_count": 32,
   "metadata": {},
   "outputs": [
    {
     "name": "stdout",
     "output_type": "stream",
     "text": [
      "[array([[0, 0, 0, ..., 0, 0, 0],\n",
      "       [0, 1, 0, ..., 0, 0, 0],\n",
      "       [0, 0, 0, ..., 0, 0, 0],\n",
      "       ..., \n",
      "       [0, 0, 0, ..., 0, 0, 0],\n",
      "       [0, 0, 0, ..., 0, 0, 0],\n",
      "       [0, 0, 0, ..., 0, 0, 0]]), array([[5, 1, 5, ..., 0, 5, 0],\n",
      "       [1, 2, 1, ..., 1, 1, 1],\n",
      "       [5, 1, 5, ..., 1, 5, 1],\n",
      "       ..., \n",
      "       [1, 1, 1, ..., 1, 1, 1],\n",
      "       [5, 1, 5, ..., 1, 5, 1],\n",
      "       [1, 1, 1, ..., 1, 1, 1]]), array([[5, 3, 5, ..., 1, 5, 1],\n",
      "       [2, 2, 3, ..., 2, 3, 3],\n",
      "       [5, 2, 5, ..., 2, 5, 2],\n",
      "       ..., \n",
      "       [3, 2, 2, ..., 3, 3, 2],\n",
      "       [5, 3, 5, ..., 2, 5, 2],\n",
      "       [2, 2, 2, ..., 3, 3, 3]]), array([[5, 3, 5, ..., 3, 5, 3],\n",
      "       [2, 2, 3, ..., 2, 3, 3],\n",
      "       [5, 2, 5, ..., 2, 5, 2],\n",
      "       ..., \n",
      "       [3, 2, 2, ..., 3, 3, 2],\n",
      "       [5, 3, 5, ..., 2, 5, 2],\n",
      "       [2, 2, 2, ..., 3, 3, 3]]), array([[5, 3, 5, ..., 3, 5, 3],\n",
      "       [2, 2, 3, ..., 2, 3, 3],\n",
      "       [5, 2, 5, ..., 2, 5, 2],\n",
      "       ..., \n",
      "       [3, 2, 2, ..., 3, 3, 2],\n",
      "       [5, 3, 5, ..., 2, 5, 2],\n",
      "       [2, 2, 2, ..., 3, 3, 3]]), array([[5, 3, 5, ..., 3, 5, 3],\n",
      "       [2, 2, 3, ..., 2, 3, 3],\n",
      "       [5, 2, 5, ..., 2, 5, 2],\n",
      "       ..., \n",
      "       [3, 2, 2, ..., 3, 3, 2],\n",
      "       [5, 3, 5, ..., 2, 5, 2],\n",
      "       [2, 2, 2, ..., 3, 3, 3]]), array([[5, 3, 5, ..., 3, 5, 3],\n",
      "       [2, 2, 3, ..., 2, 3, 3],\n",
      "       [5, 2, 5, ..., 2, 5, 2],\n",
      "       ..., \n",
      "       [3, 2, 2, ..., 3, 3, 2],\n",
      "       [5, 3, 5, ..., 2, 5, 2],\n",
      "       [2, 2, 2, ..., 3, 3, 3]]), array([[5, 3, 5, ..., 3, 5, 3],\n",
      "       [2, 2, 3, ..., 2, 3, 3],\n",
      "       [5, 2, 5, ..., 2, 5, 2],\n",
      "       ..., \n",
      "       [3, 2, 2, ..., 3, 3, 2],\n",
      "       [5, 3, 5, ..., 2, 5, 2],\n",
      "       [2, 2, 2, ..., 3, 3, 3]]), array([[5, 3, 5, ..., 3, 5, 3],\n",
      "       [2, 2, 3, ..., 2, 3, 3],\n",
      "       [5, 2, 5, ..., 2, 5, 2],\n",
      "       ..., \n",
      "       [3, 2, 2, ..., 3, 3, 2],\n",
      "       [5, 3, 5, ..., 2, 5, 2],\n",
      "       [2, 2, 2, ..., 3, 3, 3]]), array([[5, 3, 5, ..., 3, 5, 3],\n",
      "       [2, 2, 3, ..., 2, 3, 3],\n",
      "       [5, 2, 5, ..., 2, 5, 2],\n",
      "       ..., \n",
      "       [3, 2, 2, ..., 3, 3, 2],\n",
      "       [5, 3, 5, ..., 2, 5, 2],\n",
      "       [2, 2, 2, ..., 3, 3, 3]]), array([[5, 3, 5, ..., 3, 5, 3],\n",
      "       [2, 2, 3, ..., 2, 3, 3],\n",
      "       [5, 2, 5, ..., 2, 5, 2],\n",
      "       ..., \n",
      "       [3, 2, 2, ..., 3, 3, 2],\n",
      "       [5, 3, 5, ..., 2, 5, 2],\n",
      "       [2, 2, 2, ..., 3, 3, 3]])]\n"
     ]
    },
    {
     "data": {
      "application/javascript": [
       "/* Put everything inside the global mpl namespace */\n",
       "window.mpl = {};\n",
       "\n",
       "\n",
       "mpl.get_websocket_type = function() {\n",
       "    if (typeof(WebSocket) !== 'undefined') {\n",
       "        return WebSocket;\n",
       "    } else if (typeof(MozWebSocket) !== 'undefined') {\n",
       "        return MozWebSocket;\n",
       "    } else {\n",
       "        alert('Your browser does not have WebSocket support.' +\n",
       "              'Please try Chrome, Safari or Firefox ≥ 6. ' +\n",
       "              'Firefox 4 and 5 are also supported but you ' +\n",
       "              'have to enable WebSockets in about:config.');\n",
       "    };\n",
       "}\n",
       "\n",
       "mpl.figure = function(figure_id, websocket, ondownload, parent_element) {\n",
       "    this.id = figure_id;\n",
       "\n",
       "    this.ws = websocket;\n",
       "\n",
       "    this.supports_binary = (this.ws.binaryType != undefined);\n",
       "\n",
       "    if (!this.supports_binary) {\n",
       "        var warnings = document.getElementById(\"mpl-warnings\");\n",
       "        if (warnings) {\n",
       "            warnings.style.display = 'block';\n",
       "            warnings.textContent = (\n",
       "                \"This browser does not support binary websocket messages. \" +\n",
       "                    \"Performance may be slow.\");\n",
       "        }\n",
       "    }\n",
       "\n",
       "    this.imageObj = new Image();\n",
       "\n",
       "    this.context = undefined;\n",
       "    this.message = undefined;\n",
       "    this.canvas = undefined;\n",
       "    this.rubberband_canvas = undefined;\n",
       "    this.rubberband_context = undefined;\n",
       "    this.format_dropdown = undefined;\n",
       "\n",
       "    this.image_mode = 'full';\n",
       "\n",
       "    this.root = $('<div/>');\n",
       "    this._root_extra_style(this.root)\n",
       "    this.root.attr('style', 'display: inline-block');\n",
       "\n",
       "    $(parent_element).append(this.root);\n",
       "\n",
       "    this._init_header(this);\n",
       "    this._init_canvas(this);\n",
       "    this._init_toolbar(this);\n",
       "\n",
       "    var fig = this;\n",
       "\n",
       "    this.waiting = false;\n",
       "\n",
       "    this.ws.onopen =  function () {\n",
       "            fig.send_message(\"supports_binary\", {value: fig.supports_binary});\n",
       "            fig.send_message(\"send_image_mode\", {});\n",
       "            if (mpl.ratio != 1) {\n",
       "                fig.send_message(\"set_dpi_ratio\", {'dpi_ratio': mpl.ratio});\n",
       "            }\n",
       "            fig.send_message(\"refresh\", {});\n",
       "        }\n",
       "\n",
       "    this.imageObj.onload = function() {\n",
       "            if (fig.image_mode == 'full') {\n",
       "                // Full images could contain transparency (where diff images\n",
       "                // almost always do), so we need to clear the canvas so that\n",
       "                // there is no ghosting.\n",
       "                fig.context.clearRect(0, 0, fig.canvas.width, fig.canvas.height);\n",
       "            }\n",
       "            fig.context.drawImage(fig.imageObj, 0, 0);\n",
       "        };\n",
       "\n",
       "    this.imageObj.onunload = function() {\n",
       "        fig.ws.close();\n",
       "    }\n",
       "\n",
       "    this.ws.onmessage = this._make_on_message_function(this);\n",
       "\n",
       "    this.ondownload = ondownload;\n",
       "}\n",
       "\n",
       "mpl.figure.prototype._init_header = function() {\n",
       "    var titlebar = $(\n",
       "        '<div class=\"ui-dialog-titlebar ui-widget-header ui-corner-all ' +\n",
       "        'ui-helper-clearfix\"/>');\n",
       "    var titletext = $(\n",
       "        '<div class=\"ui-dialog-title\" style=\"width: 100%; ' +\n",
       "        'text-align: center; padding: 3px;\"/>');\n",
       "    titlebar.append(titletext)\n",
       "    this.root.append(titlebar);\n",
       "    this.header = titletext[0];\n",
       "}\n",
       "\n",
       "\n",
       "\n",
       "mpl.figure.prototype._canvas_extra_style = function(canvas_div) {\n",
       "\n",
       "}\n",
       "\n",
       "\n",
       "mpl.figure.prototype._root_extra_style = function(canvas_div) {\n",
       "\n",
       "}\n",
       "\n",
       "mpl.figure.prototype._init_canvas = function() {\n",
       "    var fig = this;\n",
       "\n",
       "    var canvas_div = $('<div/>');\n",
       "\n",
       "    canvas_div.attr('style', 'position: relative; clear: both; outline: 0');\n",
       "\n",
       "    function canvas_keyboard_event(event) {\n",
       "        return fig.key_event(event, event['data']);\n",
       "    }\n",
       "\n",
       "    canvas_div.keydown('key_press', canvas_keyboard_event);\n",
       "    canvas_div.keyup('key_release', canvas_keyboard_event);\n",
       "    this.canvas_div = canvas_div\n",
       "    this._canvas_extra_style(canvas_div)\n",
       "    this.root.append(canvas_div);\n",
       "\n",
       "    var canvas = $('<canvas/>');\n",
       "    canvas.addClass('mpl-canvas');\n",
       "    canvas.attr('style', \"left: 0; top: 0; z-index: 0; outline: 0\")\n",
       "\n",
       "    this.canvas = canvas[0];\n",
       "    this.context = canvas[0].getContext(\"2d\");\n",
       "\n",
       "    var backingStore = this.context.backingStorePixelRatio ||\n",
       "\tthis.context.webkitBackingStorePixelRatio ||\n",
       "\tthis.context.mozBackingStorePixelRatio ||\n",
       "\tthis.context.msBackingStorePixelRatio ||\n",
       "\tthis.context.oBackingStorePixelRatio ||\n",
       "\tthis.context.backingStorePixelRatio || 1;\n",
       "\n",
       "    mpl.ratio = (window.devicePixelRatio || 1) / backingStore;\n",
       "\n",
       "    var rubberband = $('<canvas/>');\n",
       "    rubberband.attr('style', \"position: absolute; left: 0; top: 0; z-index: 1;\")\n",
       "\n",
       "    var pass_mouse_events = true;\n",
       "\n",
       "    canvas_div.resizable({\n",
       "        start: function(event, ui) {\n",
       "            pass_mouse_events = false;\n",
       "        },\n",
       "        resize: function(event, ui) {\n",
       "            fig.request_resize(ui.size.width, ui.size.height);\n",
       "        },\n",
       "        stop: function(event, ui) {\n",
       "            pass_mouse_events = true;\n",
       "            fig.request_resize(ui.size.width, ui.size.height);\n",
       "        },\n",
       "    });\n",
       "\n",
       "    function mouse_event_fn(event) {\n",
       "        if (pass_mouse_events)\n",
       "            return fig.mouse_event(event, event['data']);\n",
       "    }\n",
       "\n",
       "    rubberband.mousedown('button_press', mouse_event_fn);\n",
       "    rubberband.mouseup('button_release', mouse_event_fn);\n",
       "    // Throttle sequential mouse events to 1 every 20ms.\n",
       "    rubberband.mousemove('motion_notify', mouse_event_fn);\n",
       "\n",
       "    rubberband.mouseenter('figure_enter', mouse_event_fn);\n",
       "    rubberband.mouseleave('figure_leave', mouse_event_fn);\n",
       "\n",
       "    canvas_div.on(\"wheel\", function (event) {\n",
       "        event = event.originalEvent;\n",
       "        event['data'] = 'scroll'\n",
       "        if (event.deltaY < 0) {\n",
       "            event.step = 1;\n",
       "        } else {\n",
       "            event.step = -1;\n",
       "        }\n",
       "        mouse_event_fn(event);\n",
       "    });\n",
       "\n",
       "    canvas_div.append(canvas);\n",
       "    canvas_div.append(rubberband);\n",
       "\n",
       "    this.rubberband = rubberband;\n",
       "    this.rubberband_canvas = rubberband[0];\n",
       "    this.rubberband_context = rubberband[0].getContext(\"2d\");\n",
       "    this.rubberband_context.strokeStyle = \"#000000\";\n",
       "\n",
       "    this._resize_canvas = function(width, height) {\n",
       "        // Keep the size of the canvas, canvas container, and rubber band\n",
       "        // canvas in synch.\n",
       "        canvas_div.css('width', width)\n",
       "        canvas_div.css('height', height)\n",
       "\n",
       "        canvas.attr('width', width * mpl.ratio);\n",
       "        canvas.attr('height', height * mpl.ratio);\n",
       "        canvas.attr('style', 'width: ' + width + 'px; height: ' + height + 'px;');\n",
       "\n",
       "        rubberband.attr('width', width);\n",
       "        rubberband.attr('height', height);\n",
       "    }\n",
       "\n",
       "    // Set the figure to an initial 600x600px, this will subsequently be updated\n",
       "    // upon first draw.\n",
       "    this._resize_canvas(600, 600);\n",
       "\n",
       "    // Disable right mouse context menu.\n",
       "    $(this.rubberband_canvas).bind(\"contextmenu\",function(e){\n",
       "        return false;\n",
       "    });\n",
       "\n",
       "    function set_focus () {\n",
       "        canvas.focus();\n",
       "        canvas_div.focus();\n",
       "    }\n",
       "\n",
       "    window.setTimeout(set_focus, 100);\n",
       "}\n",
       "\n",
       "mpl.figure.prototype._init_toolbar = function() {\n",
       "    var fig = this;\n",
       "\n",
       "    var nav_element = $('<div/>')\n",
       "    nav_element.attr('style', 'width: 100%');\n",
       "    this.root.append(nav_element);\n",
       "\n",
       "    // Define a callback function for later on.\n",
       "    function toolbar_event(event) {\n",
       "        return fig.toolbar_button_onclick(event['data']);\n",
       "    }\n",
       "    function toolbar_mouse_event(event) {\n",
       "        return fig.toolbar_button_onmouseover(event['data']);\n",
       "    }\n",
       "\n",
       "    for(var toolbar_ind in mpl.toolbar_items) {\n",
       "        var name = mpl.toolbar_items[toolbar_ind][0];\n",
       "        var tooltip = mpl.toolbar_items[toolbar_ind][1];\n",
       "        var image = mpl.toolbar_items[toolbar_ind][2];\n",
       "        var method_name = mpl.toolbar_items[toolbar_ind][3];\n",
       "\n",
       "        if (!name) {\n",
       "            // put a spacer in here.\n",
       "            continue;\n",
       "        }\n",
       "        var button = $('<button/>');\n",
       "        button.addClass('ui-button ui-widget ui-state-default ui-corner-all ' +\n",
       "                        'ui-button-icon-only');\n",
       "        button.attr('role', 'button');\n",
       "        button.attr('aria-disabled', 'false');\n",
       "        button.click(method_name, toolbar_event);\n",
       "        button.mouseover(tooltip, toolbar_mouse_event);\n",
       "\n",
       "        var icon_img = $('<span/>');\n",
       "        icon_img.addClass('ui-button-icon-primary ui-icon');\n",
       "        icon_img.addClass(image);\n",
       "        icon_img.addClass('ui-corner-all');\n",
       "\n",
       "        var tooltip_span = $('<span/>');\n",
       "        tooltip_span.addClass('ui-button-text');\n",
       "        tooltip_span.html(tooltip);\n",
       "\n",
       "        button.append(icon_img);\n",
       "        button.append(tooltip_span);\n",
       "\n",
       "        nav_element.append(button);\n",
       "    }\n",
       "\n",
       "    var fmt_picker_span = $('<span/>');\n",
       "\n",
       "    var fmt_picker = $('<select/>');\n",
       "    fmt_picker.addClass('mpl-toolbar-option ui-widget ui-widget-content');\n",
       "    fmt_picker_span.append(fmt_picker);\n",
       "    nav_element.append(fmt_picker_span);\n",
       "    this.format_dropdown = fmt_picker[0];\n",
       "\n",
       "    for (var ind in mpl.extensions) {\n",
       "        var fmt = mpl.extensions[ind];\n",
       "        var option = $(\n",
       "            '<option/>', {selected: fmt === mpl.default_extension}).html(fmt);\n",
       "        fmt_picker.append(option)\n",
       "    }\n",
       "\n",
       "    // Add hover states to the ui-buttons\n",
       "    $( \".ui-button\" ).hover(\n",
       "        function() { $(this).addClass(\"ui-state-hover\");},\n",
       "        function() { $(this).removeClass(\"ui-state-hover\");}\n",
       "    );\n",
       "\n",
       "    var status_bar = $('<span class=\"mpl-message\"/>');\n",
       "    nav_element.append(status_bar);\n",
       "    this.message = status_bar[0];\n",
       "}\n",
       "\n",
       "mpl.figure.prototype.request_resize = function(x_pixels, y_pixels) {\n",
       "    // Request matplotlib to resize the figure. Matplotlib will then trigger a resize in the client,\n",
       "    // which will in turn request a refresh of the image.\n",
       "    this.send_message('resize', {'width': x_pixels, 'height': y_pixels});\n",
       "}\n",
       "\n",
       "mpl.figure.prototype.send_message = function(type, properties) {\n",
       "    properties['type'] = type;\n",
       "    properties['figure_id'] = this.id;\n",
       "    this.ws.send(JSON.stringify(properties));\n",
       "}\n",
       "\n",
       "mpl.figure.prototype.send_draw_message = function() {\n",
       "    if (!this.waiting) {\n",
       "        this.waiting = true;\n",
       "        this.ws.send(JSON.stringify({type: \"draw\", figure_id: this.id}));\n",
       "    }\n",
       "}\n",
       "\n",
       "\n",
       "mpl.figure.prototype.handle_save = function(fig, msg) {\n",
       "    var format_dropdown = fig.format_dropdown;\n",
       "    var format = format_dropdown.options[format_dropdown.selectedIndex].value;\n",
       "    fig.ondownload(fig, format);\n",
       "}\n",
       "\n",
       "\n",
       "mpl.figure.prototype.handle_resize = function(fig, msg) {\n",
       "    var size = msg['size'];\n",
       "    if (size[0] != fig.canvas.width || size[1] != fig.canvas.height) {\n",
       "        fig._resize_canvas(size[0], size[1]);\n",
       "        fig.send_message(\"refresh\", {});\n",
       "    };\n",
       "}\n",
       "\n",
       "mpl.figure.prototype.handle_rubberband = function(fig, msg) {\n",
       "    var x0 = msg['x0'] / mpl.ratio;\n",
       "    var y0 = (fig.canvas.height - msg['y0']) / mpl.ratio;\n",
       "    var x1 = msg['x1'] / mpl.ratio;\n",
       "    var y1 = (fig.canvas.height - msg['y1']) / mpl.ratio;\n",
       "    x0 = Math.floor(x0) + 0.5;\n",
       "    y0 = Math.floor(y0) + 0.5;\n",
       "    x1 = Math.floor(x1) + 0.5;\n",
       "    y1 = Math.floor(y1) + 0.5;\n",
       "    var min_x = Math.min(x0, x1);\n",
       "    var min_y = Math.min(y0, y1);\n",
       "    var width = Math.abs(x1 - x0);\n",
       "    var height = Math.abs(y1 - y0);\n",
       "\n",
       "    fig.rubberband_context.clearRect(\n",
       "        0, 0, fig.canvas.width, fig.canvas.height);\n",
       "\n",
       "    fig.rubberband_context.strokeRect(min_x, min_y, width, height);\n",
       "}\n",
       "\n",
       "mpl.figure.prototype.handle_figure_label = function(fig, msg) {\n",
       "    // Updates the figure title.\n",
       "    fig.header.textContent = msg['label'];\n",
       "}\n",
       "\n",
       "mpl.figure.prototype.handle_cursor = function(fig, msg) {\n",
       "    var cursor = msg['cursor'];\n",
       "    switch(cursor)\n",
       "    {\n",
       "    case 0:\n",
       "        cursor = 'pointer';\n",
       "        break;\n",
       "    case 1:\n",
       "        cursor = 'default';\n",
       "        break;\n",
       "    case 2:\n",
       "        cursor = 'crosshair';\n",
       "        break;\n",
       "    case 3:\n",
       "        cursor = 'move';\n",
       "        break;\n",
       "    }\n",
       "    fig.rubberband_canvas.style.cursor = cursor;\n",
       "}\n",
       "\n",
       "mpl.figure.prototype.handle_message = function(fig, msg) {\n",
       "    fig.message.textContent = msg['message'];\n",
       "}\n",
       "\n",
       "mpl.figure.prototype.handle_draw = function(fig, msg) {\n",
       "    // Request the server to send over a new figure.\n",
       "    fig.send_draw_message();\n",
       "}\n",
       "\n",
       "mpl.figure.prototype.handle_image_mode = function(fig, msg) {\n",
       "    fig.image_mode = msg['mode'];\n",
       "}\n",
       "\n",
       "mpl.figure.prototype.updated_canvas_event = function() {\n",
       "    // Called whenever the canvas gets updated.\n",
       "    this.send_message(\"ack\", {});\n",
       "}\n",
       "\n",
       "// A function to construct a web socket function for onmessage handling.\n",
       "// Called in the figure constructor.\n",
       "mpl.figure.prototype._make_on_message_function = function(fig) {\n",
       "    return function socket_on_message(evt) {\n",
       "        if (evt.data instanceof Blob) {\n",
       "            /* FIXME: We get \"Resource interpreted as Image but\n",
       "             * transferred with MIME type text/plain:\" errors on\n",
       "             * Chrome.  But how to set the MIME type?  It doesn't seem\n",
       "             * to be part of the websocket stream */\n",
       "            evt.data.type = \"image/png\";\n",
       "\n",
       "            /* Free the memory for the previous frames */\n",
       "            if (fig.imageObj.src) {\n",
       "                (window.URL || window.webkitURL).revokeObjectURL(\n",
       "                    fig.imageObj.src);\n",
       "            }\n",
       "\n",
       "            fig.imageObj.src = (window.URL || window.webkitURL).createObjectURL(\n",
       "                evt.data);\n",
       "            fig.updated_canvas_event();\n",
       "            fig.waiting = false;\n",
       "            return;\n",
       "        }\n",
       "        else if (typeof evt.data === 'string' && evt.data.slice(0, 21) == \"data:image/png;base64\") {\n",
       "            fig.imageObj.src = evt.data;\n",
       "            fig.updated_canvas_event();\n",
       "            fig.waiting = false;\n",
       "            return;\n",
       "        }\n",
       "\n",
       "        var msg = JSON.parse(evt.data);\n",
       "        var msg_type = msg['type'];\n",
       "\n",
       "        // Call the  \"handle_{type}\" callback, which takes\n",
       "        // the figure and JSON message as its only arguments.\n",
       "        try {\n",
       "            var callback = fig[\"handle_\" + msg_type];\n",
       "        } catch (e) {\n",
       "            console.log(\"No handler for the '\" + msg_type + \"' message type: \", msg);\n",
       "            return;\n",
       "        }\n",
       "\n",
       "        if (callback) {\n",
       "            try {\n",
       "                // console.log(\"Handling '\" + msg_type + \"' message: \", msg);\n",
       "                callback(fig, msg);\n",
       "            } catch (e) {\n",
       "                console.log(\"Exception inside the 'handler_\" + msg_type + \"' callback:\", e, e.stack, msg);\n",
       "            }\n",
       "        }\n",
       "    };\n",
       "}\n",
       "\n",
       "// from http://stackoverflow.com/questions/1114465/getting-mouse-location-in-canvas\n",
       "mpl.findpos = function(e) {\n",
       "    //this section is from http://www.quirksmode.org/js/events_properties.html\n",
       "    var targ;\n",
       "    if (!e)\n",
       "        e = window.event;\n",
       "    if (e.target)\n",
       "        targ = e.target;\n",
       "    else if (e.srcElement)\n",
       "        targ = e.srcElement;\n",
       "    if (targ.nodeType == 3) // defeat Safari bug\n",
       "        targ = targ.parentNode;\n",
       "\n",
       "    // jQuery normalizes the pageX and pageY\n",
       "    // pageX,Y are the mouse positions relative to the document\n",
       "    // offset() returns the position of the element relative to the document\n",
       "    var x = e.pageX - $(targ).offset().left;\n",
       "    var y = e.pageY - $(targ).offset().top;\n",
       "\n",
       "    return {\"x\": x, \"y\": y};\n",
       "};\n",
       "\n",
       "/*\n",
       " * return a copy of an object with only non-object keys\n",
       " * we need this to avoid circular references\n",
       " * http://stackoverflow.com/a/24161582/3208463\n",
       " */\n",
       "function simpleKeys (original) {\n",
       "  return Object.keys(original).reduce(function (obj, key) {\n",
       "    if (typeof original[key] !== 'object')\n",
       "        obj[key] = original[key]\n",
       "    return obj;\n",
       "  }, {});\n",
       "}\n",
       "\n",
       "mpl.figure.prototype.mouse_event = function(event, name) {\n",
       "    var canvas_pos = mpl.findpos(event)\n",
       "\n",
       "    if (name === 'button_press')\n",
       "    {\n",
       "        this.canvas.focus();\n",
       "        this.canvas_div.focus();\n",
       "    }\n",
       "\n",
       "    var x = canvas_pos.x * mpl.ratio;\n",
       "    var y = canvas_pos.y * mpl.ratio;\n",
       "\n",
       "    this.send_message(name, {x: x, y: y, button: event.button,\n",
       "                             step: event.step,\n",
       "                             guiEvent: simpleKeys(event)});\n",
       "\n",
       "    /* This prevents the web browser from automatically changing to\n",
       "     * the text insertion cursor when the button is pressed.  We want\n",
       "     * to control all of the cursor setting manually through the\n",
       "     * 'cursor' event from matplotlib */\n",
       "    event.preventDefault();\n",
       "    return false;\n",
       "}\n",
       "\n",
       "mpl.figure.prototype._key_event_extra = function(event, name) {\n",
       "    // Handle any extra behaviour associated with a key event\n",
       "}\n",
       "\n",
       "mpl.figure.prototype.key_event = function(event, name) {\n",
       "\n",
       "    // Prevent repeat events\n",
       "    if (name == 'key_press')\n",
       "    {\n",
       "        if (event.which === this._key)\n",
       "            return;\n",
       "        else\n",
       "            this._key = event.which;\n",
       "    }\n",
       "    if (name == 'key_release')\n",
       "        this._key = null;\n",
       "\n",
       "    var value = '';\n",
       "    if (event.ctrlKey && event.which != 17)\n",
       "        value += \"ctrl+\";\n",
       "    if (event.altKey && event.which != 18)\n",
       "        value += \"alt+\";\n",
       "    if (event.shiftKey && event.which != 16)\n",
       "        value += \"shift+\";\n",
       "\n",
       "    value += 'k';\n",
       "    value += event.which.toString();\n",
       "\n",
       "    this._key_event_extra(event, name);\n",
       "\n",
       "    this.send_message(name, {key: value,\n",
       "                             guiEvent: simpleKeys(event)});\n",
       "    return false;\n",
       "}\n",
       "\n",
       "mpl.figure.prototype.toolbar_button_onclick = function(name) {\n",
       "    if (name == 'download') {\n",
       "        this.handle_save(this, null);\n",
       "    } else {\n",
       "        this.send_message(\"toolbar_button\", {name: name});\n",
       "    }\n",
       "};\n",
       "\n",
       "mpl.figure.prototype.toolbar_button_onmouseover = function(tooltip) {\n",
       "    this.message.textContent = tooltip;\n",
       "};\n",
       "mpl.toolbar_items = [[\"Home\", \"Reset original view\", \"fa fa-home icon-home\", \"home\"], [\"Back\", \"Back to  previous view\", \"fa fa-arrow-left icon-arrow-left\", \"back\"], [\"Forward\", \"Forward to next view\", \"fa fa-arrow-right icon-arrow-right\", \"forward\"], [\"\", \"\", \"\", \"\"], [\"Pan\", \"Pan axes with left mouse, zoom with right\", \"fa fa-arrows icon-move\", \"pan\"], [\"Zoom\", \"Zoom to rectangle\", \"fa fa-square-o icon-check-empty\", \"zoom\"], [\"\", \"\", \"\", \"\"], [\"Download\", \"Download plot\", \"fa fa-floppy-o icon-save\", \"download\"]];\n",
       "\n",
       "mpl.extensions = [\"eps\", \"jpeg\", \"pdf\", \"png\", \"ps\", \"raw\", \"svg\", \"tif\"];\n",
       "\n",
       "mpl.default_extension = \"png\";var comm_websocket_adapter = function(comm) {\n",
       "    // Create a \"websocket\"-like object which calls the given IPython comm\n",
       "    // object with the appropriate methods. Currently this is a non binary\n",
       "    // socket, so there is still some room for performance tuning.\n",
       "    var ws = {};\n",
       "\n",
       "    ws.close = function() {\n",
       "        comm.close()\n",
       "    };\n",
       "    ws.send = function(m) {\n",
       "        //console.log('sending', m);\n",
       "        comm.send(m);\n",
       "    };\n",
       "    // Register the callback with on_msg.\n",
       "    comm.on_msg(function(msg) {\n",
       "        //console.log('receiving', msg['content']['data'], msg);\n",
       "        // Pass the mpl event to the overriden (by mpl) onmessage function.\n",
       "        ws.onmessage(msg['content']['data'])\n",
       "    });\n",
       "    return ws;\n",
       "}\n",
       "\n",
       "mpl.mpl_figure_comm = function(comm, msg) {\n",
       "    // This is the function which gets called when the mpl process\n",
       "    // starts-up an IPython Comm through the \"matplotlib\" channel.\n",
       "\n",
       "    var id = msg.content.data.id;\n",
       "    // Get hold of the div created by the display call when the Comm\n",
       "    // socket was opened in Python.\n",
       "    var element = $(\"#\" + id);\n",
       "    var ws_proxy = comm_websocket_adapter(comm)\n",
       "\n",
       "    function ondownload(figure, format) {\n",
       "        window.open(figure.imageObj.src);\n",
       "    }\n",
       "\n",
       "    var fig = new mpl.figure(id, ws_proxy,\n",
       "                           ondownload,\n",
       "                           element.get(0));\n",
       "\n",
       "    // Call onopen now - mpl needs it, as it is assuming we've passed it a real\n",
       "    // web socket which is closed, not our websocket->open comm proxy.\n",
       "    ws_proxy.onopen();\n",
       "\n",
       "    fig.parent_element = element.get(0);\n",
       "    fig.cell_info = mpl.find_output_cell(\"<div id='\" + id + \"'></div>\");\n",
       "    if (!fig.cell_info) {\n",
       "        console.error(\"Failed to find cell for figure\", id, fig);\n",
       "        return;\n",
       "    }\n",
       "\n",
       "    var output_index = fig.cell_info[2]\n",
       "    var cell = fig.cell_info[0];\n",
       "\n",
       "};\n",
       "\n",
       "mpl.figure.prototype.handle_close = function(fig, msg) {\n",
       "    var width = fig.canvas.width/mpl.ratio\n",
       "    fig.root.unbind('remove')\n",
       "\n",
       "    // Update the output cell to use the data from the current canvas.\n",
       "    fig.push_to_output();\n",
       "    var dataURL = fig.canvas.toDataURL();\n",
       "    // Re-enable the keyboard manager in IPython - without this line, in FF,\n",
       "    // the notebook keyboard shortcuts fail.\n",
       "    IPython.keyboard_manager.enable()\n",
       "    $(fig.parent_element).html('<img src=\"' + dataURL + '\" width=\"' + width + '\">');\n",
       "    fig.close_ws(fig, msg);\n",
       "}\n",
       "\n",
       "mpl.figure.prototype.close_ws = function(fig, msg){\n",
       "    fig.send_message('closing', msg);\n",
       "    // fig.ws.close()\n",
       "}\n",
       "\n",
       "mpl.figure.prototype.push_to_output = function(remove_interactive) {\n",
       "    // Turn the data on the canvas into data in the output cell.\n",
       "    var width = this.canvas.width/mpl.ratio\n",
       "    var dataURL = this.canvas.toDataURL();\n",
       "    this.cell_info[1]['text/html'] = '<img src=\"' + dataURL + '\" width=\"' + width + '\">';\n",
       "}\n",
       "\n",
       "mpl.figure.prototype.updated_canvas_event = function() {\n",
       "    // Tell IPython that the notebook contents must change.\n",
       "    IPython.notebook.set_dirty(true);\n",
       "    this.send_message(\"ack\", {});\n",
       "    var fig = this;\n",
       "    // Wait a second, then push the new image to the DOM so\n",
       "    // that it is saved nicely (might be nice to debounce this).\n",
       "    setTimeout(function () { fig.push_to_output() }, 1000);\n",
       "}\n",
       "\n",
       "mpl.figure.prototype._init_toolbar = function() {\n",
       "    var fig = this;\n",
       "\n",
       "    var nav_element = $('<div/>')\n",
       "    nav_element.attr('style', 'width: 100%');\n",
       "    this.root.append(nav_element);\n",
       "\n",
       "    // Define a callback function for later on.\n",
       "    function toolbar_event(event) {\n",
       "        return fig.toolbar_button_onclick(event['data']);\n",
       "    }\n",
       "    function toolbar_mouse_event(event) {\n",
       "        return fig.toolbar_button_onmouseover(event['data']);\n",
       "    }\n",
       "\n",
       "    for(var toolbar_ind in mpl.toolbar_items){\n",
       "        var name = mpl.toolbar_items[toolbar_ind][0];\n",
       "        var tooltip = mpl.toolbar_items[toolbar_ind][1];\n",
       "        var image = mpl.toolbar_items[toolbar_ind][2];\n",
       "        var method_name = mpl.toolbar_items[toolbar_ind][3];\n",
       "\n",
       "        if (!name) { continue; };\n",
       "\n",
       "        var button = $('<button class=\"btn btn-default\" href=\"#\" title=\"' + name + '\"><i class=\"fa ' + image + ' fa-lg\"></i></button>');\n",
       "        button.click(method_name, toolbar_event);\n",
       "        button.mouseover(tooltip, toolbar_mouse_event);\n",
       "        nav_element.append(button);\n",
       "    }\n",
       "\n",
       "    // Add the status bar.\n",
       "    var status_bar = $('<span class=\"mpl-message\" style=\"text-align:right; float: right;\"/>');\n",
       "    nav_element.append(status_bar);\n",
       "    this.message = status_bar[0];\n",
       "\n",
       "    // Add the close button to the window.\n",
       "    var buttongrp = $('<div class=\"btn-group inline pull-right\"></div>');\n",
       "    var button = $('<button class=\"btn btn-mini btn-primary\" href=\"#\" title=\"Stop Interaction\"><i class=\"fa fa-power-off icon-remove icon-large\"></i></button>');\n",
       "    button.click(function (evt) { fig.handle_close(fig, {}); } );\n",
       "    button.mouseover('Stop Interaction', toolbar_mouse_event);\n",
       "    buttongrp.append(button);\n",
       "    var titlebar = this.root.find($('.ui-dialog-titlebar'));\n",
       "    titlebar.prepend(buttongrp);\n",
       "}\n",
       "\n",
       "mpl.figure.prototype._root_extra_style = function(el){\n",
       "    var fig = this\n",
       "    el.on(\"remove\", function(){\n",
       "\tfig.close_ws(fig, {});\n",
       "    });\n",
       "}\n",
       "\n",
       "mpl.figure.prototype._canvas_extra_style = function(el){\n",
       "    // this is important to make the div 'focusable\n",
       "    el.attr('tabindex', 0)\n",
       "    // reach out to IPython and tell the keyboard manager to turn it's self\n",
       "    // off when our div gets focus\n",
       "\n",
       "    // location in version 3\n",
       "    if (IPython.notebook.keyboard_manager) {\n",
       "        IPython.notebook.keyboard_manager.register_events(el);\n",
       "    }\n",
       "    else {\n",
       "        // location in version 2\n",
       "        IPython.keyboard_manager.register_events(el);\n",
       "    }\n",
       "\n",
       "}\n",
       "\n",
       "mpl.figure.prototype._key_event_extra = function(event, name) {\n",
       "    var manager = IPython.notebook.keyboard_manager;\n",
       "    if (!manager)\n",
       "        manager = IPython.keyboard_manager;\n",
       "\n",
       "    // Check for shift+enter\n",
       "    if (event.shiftKey && event.which == 13) {\n",
       "        this.canvas_div.blur();\n",
       "        event.shiftKey = false;\n",
       "        // Send a \"J\" for go to next cell\n",
       "        event.which = 74;\n",
       "        event.keyCode = 74;\n",
       "        manager.command_mode();\n",
       "        manager.handle_keydown(event);\n",
       "    }\n",
       "}\n",
       "\n",
       "mpl.figure.prototype.handle_save = function(fig, msg) {\n",
       "    fig.ondownload(fig, null);\n",
       "}\n",
       "\n",
       "\n",
       "mpl.find_output_cell = function(html_output) {\n",
       "    // Return the cell and output element which can be found *uniquely* in the notebook.\n",
       "    // Note - this is a bit hacky, but it is done because the \"notebook_saving.Notebook\"\n",
       "    // IPython event is triggered only after the cells have been serialised, which for\n",
       "    // our purposes (turning an active figure into a static one), is too late.\n",
       "    var cells = IPython.notebook.get_cells();\n",
       "    var ncells = cells.length;\n",
       "    for (var i=0; i<ncells; i++) {\n",
       "        var cell = cells[i];\n",
       "        if (cell.cell_type === 'code'){\n",
       "            for (var j=0; j<cell.output_area.outputs.length; j++) {\n",
       "                var data = cell.output_area.outputs[j];\n",
       "                if (data.data) {\n",
       "                    // IPython >= 3 moved mimebundle to data attribute of output\n",
       "                    data = data.data;\n",
       "                }\n",
       "                if (data['text/html'] == html_output) {\n",
       "                    return [cell, data, j];\n",
       "                }\n",
       "            }\n",
       "        }\n",
       "    }\n",
       "}\n",
       "\n",
       "// Register the function which deals with the matplotlib target/channel.\n",
       "// The kernel may be null if the page has been refreshed.\n",
       "if (IPython.notebook.kernel != null) {\n",
       "    IPython.notebook.kernel.comm_manager.register_target('matplotlib', mpl.mpl_figure_comm);\n",
       "}\n"
      ],
      "text/plain": [
       "<IPython.core.display.Javascript object>"
      ]
     },
     "metadata": {},
     "output_type": "display_data"
    },
    {
     "data": {
      "text/html": [
       "<img src=\"data:image/png;base64,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\" width=\"639.8333333333334\">"
      ],
      "text/plain": [
       "<IPython.core.display.HTML object>"
      ]
     },
     "metadata": {},
     "output_type": "display_data"
    }
   ],
   "source": [
    "%matplotlib notebook\n",
    "from pylab import *\n",
    "import numpy as np\n",
    "import random\n",
    "\n",
    "n=100\n",
    "x=0\n",
    "y=0\n",
    "\n",
    "\n",
    "def simulation(max_itere=10):\n",
    "    cpt=0  \n",
    "    M=grille(n)\n",
    "    N=grille_case_vide(n,M)\n",
    "    D=dict()\n",
    "    D={(1,1):1}\n",
    "    resultat=[]\n",
    "    resultat.append((M).copy())\n",
    "    new_state=next_step_incubation_deplacement(N,D)\n",
    "    \n",
    "    while (cpt < max_itere):\n",
    "        resultat.append(new_state.copy())\n",
    "        new_state= next_step_incubation_deplacement(new_state,D)\n",
    "        cpt = cpt+1\n",
    "    \n",
    "    return resultat\n",
    "\n",
    "resultat_final = simulation(max_itere=10)\n",
    "\n",
    "print(resultat_final)\n",
    "\n",
    "\n",
    "import matplotlib.pyplot as plt\n",
    "size = np.array(M.shape)\n",
    "dpi = 10.0 \n",
    "figsize= size[1]/float(dpi),size[0]/float(dpi)\n",
    "#fig = plt.figure(figsize = figsize, dpi = dpi, facecolor = \"white\")\n",
    "fig = plt.figure(facecolor = \"white\")\n",
    "fig.add_axes([0.0, 0.0, 1.0, 1.0], frameon = False)\n",
    "im=plt.imshow(M, interpolation = 'nearest', cmap =\"viridis\", vmin=0, vmax=3)\n",
    "plt.xticks([]), plt.yticks([])\n",
    "plt.colorbar()\n",
    "\n",
    "\n",
    "import matplotlib.animation as animation\n",
    "\n",
    "def update(i):\n",
    "    #simulation_4param(max_itere=10)\n",
    "    M = resultat_final[i]\n",
    "    im.set_array(M)\n",
    "    return im,\n",
    "\n",
    "ani = animation.FuncAnimation(fig, update, frames=len(resultat_final), interval=500)\n",
    "ani.save('grippe_espagnole.html', writer=\"html\")\n",
    "plt.show()\n"
   ]
  },
  {
   "cell_type": "markdown",
   "metadata": {},
   "source": [
    "# La partie graphique:"
   ]
  },
  {
   "cell_type": "code",
   "execution_count": 33,
   "metadata": {
    "collapsed": true
   },
   "outputs": [],
   "source": [
    "# on a introduit cette fonction pour calculer le nombre de personnes infectees, saines , retablies et mortes\n",
    "def next_step_incubation_deplacement_nb(resultat,d,nb_infect,nb_sain,nb_retabli,nb_mort,Dict):\n",
    "    \n",
    "     #Dict est un dictionaire qui enregistre les personnes deja comptées\n",
    "    for i in range(n):\n",
    "        for j in range(n):\n",
    "            resultat, d = etat_incubation_deplacement(resultat, p1, p_infect, i, j, temps_incubation, d)\n",
    "            if resultat[i,j]==1:\n",
    "                if not (i,j) in  Dict:   #la personne n'est pas comptée \n",
    "                    nb_infect+=1         #on incremente le nombre de personnes infectées\n",
    "                    Dict[(i,j)]=1   #on ajoute les indices de la personne aux dictionnaire\n",
    "                    #pour eviter de compter la personne plusieurs fois \n",
    "                else:                   # la personne est dans le dictionaire\n",
    "                    if resultat[i,j]!= Dict[(i,j)]: # la personne a un nouveau etat donc on doit l'incrementer \n",
    "                        nb_infect+=1\n",
    "                        Dict[(i,j)]=1   #on initialise la valeur du dictionnaire \n",
    "                            \n",
    "            elif resultat[i,j]==0:\n",
    "                nb_sain+=1\n",
    "                if not (i,j) in  Dict:         #la personne n'est pas comptée \n",
    "                                     #on incremente le nombre de personnes saines\n",
    "                    Dict[(i,j)]=0         #on ajoute les indices de la personne aux dictionnaire\n",
    "                \n",
    "                   \n",
    "                            \n",
    "            elif resultat[i,j]==2:\n",
    "                if not (i,j) in  Dict:   #la personne n'est pas comptée \n",
    "                    nb_retabli+=1         #on incremente le nombre de personnes rétablies\n",
    "                    Dict[(i,j)]=2   #on ajoute les indices de la personne aux dictionnaire\n",
    "                else:                   # la personne est dans le dictionaire\n",
    "                    if Dict[(i,j)]!=resultat[i,j]:    #la valeur qui correspond aux indices i et j est differente que celle de la matrice changement d'etat de la personne\n",
    "                        nb_retabli+=1\n",
    "                        Dict[(i,j)]=2\n",
    "                        \n",
    "            elif resultat[(i,j)]==3:\n",
    "                if not (i,j) in  Dict:   #la personne n'est pas comptée \n",
    "                    nb_mort+=1         #on incremente le nombre de personnes décédées\n",
    "                    Dict[(i,j)]=resultat[i,j]   #on ajoute les indices de la personne aux dictionnaire\n",
    "                else:                   # la personne est dans le dictionaire\n",
    "                    if Dict[(i,j)]!=resultat[i,j]:    #la valeur qui correspond aux indices i et j est differente que celle de la matrice changement d'etat de la personne\n",
    "                        nb_mort+=1\n",
    "                        Dict[(i,j)]=3\n",
    "    \n",
    "    return resultat,d,nb_infect,nb_sain,nb_retabli,nb_mort,Dict"
   ]
  },
  {
   "cell_type": "code",
   "execution_count": 34,
   "metadata": {
    "collapsed": true
   },
   "outputs": [],
   "source": [
    "def simulation_deplacement_nb(max_itere=10,nb_infect=1,nb_sain=0,nb_retabli=0,nb_mort=0):\n",
    "    M=grille(n)\n",
    "    N=grille_case_vide(n,M)\n",
    "    result= next_step_deplacement(N)\n",
    "    DD={}\n",
    "    dd={(1,1):1}\n",
    "    list_infect_etape=[]   # une liste qui enregistre le nombre de personnes infectes a chaque etape\n",
    "    list_sain_etape=[]     # une liste qui enregistre le nombre de personnes saines a chaque etape\n",
    "    list_retabli_etape=[]  # une liste qui enregistre le nombre de personnes retables a chaque etape\n",
    "    list_mort_etape=[]     # une liste qui enregistre le nombre de personnes décédées a chaque etape\n",
    "    cpt=0\n",
    "    resultat=[]    \n",
    "    resultat.append((result).copy())\n",
    "    #new_state,dd,nb_infect,nb_sain,nb_retabli,nb_mort,DD=next_step_incubation_deplacement_nb(result,dd,nb_infect,nb_sain,nb_retabli,nb_mort,DD)\n",
    "    #print(nb_infect)\n",
    "    #print(nb_sain)\n",
    "    while(cpt<max_itere):\n",
    "        new_state,dd,nb_infect,nb_sain,nb_retabli,nb_mort,DD=next_step_incubation_deplacement_nb(result,dd,nb_infect,nb_sain,nb_retabli,nb_mort,DD)\n",
    "        resultat.append((new_state).copy())\n",
    "        \n",
    "        list_infect_etape.append(nb_infect)\n",
    "        list_sain_etape.append(nb_sain)\n",
    "        list_retabli_etape.append(nb_retabli)\n",
    "        list_mort_etape.append(nb_mort)\n",
    "        nb_sain=0\n",
    "        \n",
    "        cpt = cpt+1\n",
    "        \n",
    "    return resultat,nb_infect,nb_sain,nb_retabli,nb_mort,list_infect_etape,list_sain_etape,list_retabli_etape,list_mort_etape"
   ]
  },
  {
   "cell_type": "code",
   "execution_count": 35,
   "metadata": {
    "collapsed": true
   },
   "outputs": [],
   "source": [
    "from pylab import *"
   ]
  },
  {
   "cell_type": "code",
   "execution_count": 36,
   "metadata": {
    "collapsed": true
   },
   "outputs": [],
   "source": [
    "import matplotlib\n",
    "import matplotlib.pyplot as plt"
   ]
  },
  {
   "cell_type": "code",
   "execution_count": 37,
   "metadata": {
    "collapsed": true
   },
   "outputs": [],
   "source": [
    "import numpy as np\n",
    "import random "
   ]
  },
  {
   "cell_type": "markdown",
   "metadata": {},
   "source": [
    "# Representation des 4 courbes sur  un meme graphe"
   ]
  },
  {
   "cell_type": "code",
   "execution_count": 39,
   "metadata": {
    "collapsed": true
   },
   "outputs": [],
   "source": [
    "n=5     # taille de la grille\n",
    "p=0.5 #permet d effectuer le deplacement \n",
    "p1=0.5   #probabilite de recuperation \n",
    "p_infect=1   # probabilite de mortalite "
   ]
  },
  {
   "cell_type": "code",
   "execution_count": 40,
   "metadata": {},
   "outputs": [
    {
     "name": "stderr",
     "output_type": "stream",
     "text": [
      "Traceback (most recent call last):\n",
      "  File \"C:\\Users\\DALILA\\Anaconda3\\lib\\site-packages\\matplotlib\\cbook\\__init__.py\", line 389, in process\n",
      "    proxy(*args, **kwargs)\n",
      "  File \"C:\\Users\\DALILA\\Anaconda3\\lib\\site-packages\\matplotlib\\cbook\\__init__.py\", line 227, in __call__\n",
      "    return mtd(*args, **kwargs)\n",
      "  File \"C:\\Users\\DALILA\\Anaconda3\\lib\\site-packages\\matplotlib\\animation.py\", line 1560, in _stop\n",
      "    self.event_source.remove_callback(self._loop_delay)\n",
      "AttributeError: 'NoneType' object has no attribute 'remove_callback'\n"
     ]
    },
    {
     "name": "stdout",
     "output_type": "stream",
     "text": [
      "nombre de personnes infectees a chaque etapes\n",
      "[3, 4, 9, 13, 17, 17, 17, 17, 17, 17]\n",
      "nombre de personnes saines a chaque etapes\n",
      "[14, 13, 8, 4, 0, 0, 0, 0, 0, 0]\n",
      "nombre de personnes retablies a chaque etapes\n",
      "[0, 1, 1, 4, 7, 10, 10, 10, 10, 10]\n",
      "nombre de personnes decedees a chaque etapes\n",
      "[0, 1, 2, 4, 5, 6, 6, 6, 6, 6]\n"
     ]
    },
    {
     "data": {
      "image/png": "[encoded data removed]",
      "text/plain": [
       "<matplotlib.figure.Figure at 0xa6686d8>"
      ]
     },
     "metadata": {},
     "output_type": "display_data"
    }
   ],
   "source": [
    "%matplotlib inline\n",
    "\n",
    "_,_,_,_,_,results,results1,results2,results3 = simulation_deplacement_nb()\n",
    "n = len(results)\n",
    "x = [i for i in range(n)]\n",
    "y = [results[i] for i in range(n)]\n",
    "y1= [results1[i] for i in range(n)]\n",
    "y2= [results2[i] for i in range(n)]\n",
    "y3= [results3[i] for i in range(n)]\n",
    "print(\"nombre de personnes infectees a chaque etapes\")\n",
    "print(y)\n",
    "print(\"nombre de personnes saines a chaque etapes\")\n",
    "print(y1)\n",
    "print(\"nombre de personnes retablies a chaque etapes\")\n",
    "print(y2)\n",
    "print(\"nombre de personnes decedees a chaque etapes\")\n",
    "print(y3)\n",
    "\n",
    "\n",
    "figure()\n",
    "plot(x, y, color=\"blue\", linewidth=2.5, linestyle=\"-\",  label=\"infectés\")\n",
    "plot(x,y1 , color=\"red\",  linewidth=2.5, linestyle=\"-\", label=\"sains\")\n",
    "plot(x,y2 , color=\"green\",  linewidth=2.5, linestyle=\"-\", label=\"rétablis\")\n",
    "plot(x,y3 , color=\"black\",  linewidth=2.5, linestyle=\"-\", label=\"décédés\")\n",
    "\n",
    "\n",
    "ax = gca()\n",
    "ax.spines['right'].set_color('none')\n",
    "ax.spines['top'].set_color('none')\n",
    "ax.xaxis.set_ticks_position('bottom')\n",
    "ax.spines['bottom'].set_position(('data',0))\n",
    "ax.yaxis.set_ticks_position('left')\n",
    "ax.spines['left'].set_position(('data',0))\n",
    "\n",
    "legend(loc='lower right')\n",
    "\n",
    "title('propagation de la grippe espagnole ')\n",
    "#plt.savefig('graphique_propagation de la grippe espagnole.png', dpi=200)\n",
    "\n",
    "show()"
   ]
  },
  {
   "cell_type": "markdown",
   "metadata": {},
   "source": [
    "# Variation des paramètres"
   ]
  },
  {
   "cell_type": "code",
   "execution_count": 41,
   "metadata": {
    "collapsed": true
   },
   "outputs": [],
   "source": [
    "n=5                                    # cas de base \n",
    "p=0.5\n",
    "p1=0.5\n",
    "p_infect=1\n",
    "temps_incubation=2"
   ]
  },
  {
   "cell_type": "markdown",
   "metadata": {},
   "source": [
    "# Variation de n"
   ]
  },
  {
   "cell_type": "code",
   "execution_count": 44,
   "metadata": {
    "collapsed": true
   },
   "outputs": [],
   "source": [
    "n=55\n",
    "p=0.5\n",
    "p1=0.5\n",
    "p_infect=1\n",
    "temps_incubation=2"
   ]
  },
  {
   "cell_type": "code",
   "execution_count": 45,
   "metadata": {},
   "outputs": [
    {
     "name": "stdout",
     "output_type": "stream",
     "text": [
      "nombre de personnes infectees a chaque etapes\n",
      "[1895, 2095, 2152, 2174, 2211, 2223, 2223, 2223, 2223, 2223]\n",
      "nombre de personnes saines a chaque etapes\n",
      "[345, 145, 88, 66, 29, 17, 17, 17, 17, 17]\n",
      "nombre de personnes retablies a chaque etapes\n",
      "[0, 942, 1043, 1071, 1082, 1102, 1108, 1108, 1108, 1108]\n",
      "nombre de personnes decedees a chaque etapes\n",
      "[1, 954, 1053, 1082, 1093, 1110, 1116, 1116, 1116, 1116]\n"
     ]
    },
    {
     "data": {
      "image/png": "[encoded data removed]",
      "text/plain": [
       "<matplotlib.figure.Figure at 0xb579c18>"
      ]
     },
     "metadata": {},
     "output_type": "display_data"
    }
   ],
   "source": [
    "%matplotlib inline\n",
    "\n",
    "_,_,_,_,_,results,results1,results2,results3 = simulation_deplacement_nb()\n",
    "n = len(results)\n",
    "x = [i for i in range(n)]\n",
    "y = [results[i] for i in range(n)]\n",
    "y1= [results1[i] for i in range(n)]\n",
    "y2= [results2[i] for i in range(n)]\n",
    "y3= [results3[i] for i in range(n)]\n",
    "print(\"nombre de personnes infectees a chaque etapes\")\n",
    "print(y)\n",
    "print(\"nombre de personnes saines a chaque etapes\")\n",
    "print(y1)\n",
    "print(\"nombre de personnes retablies a chaque etapes\")\n",
    "print(y2)\n",
    "print(\"nombre de personnes decedees a chaque etapes\")\n",
    "print(y3)\n",
    "\n",
    "\n",
    "figure()\n",
    "plot(x, y, color=\"blue\", linewidth=2.5, linestyle=\"-\",  label=\"infectés\")\n",
    "plot(x,y1 , color=\"red\",  linewidth=2.5, linestyle=\"-\", label=\"sains\")\n",
    "plot(x,y2 , color=\"green\",  linewidth=2.5, linestyle=\"-\", label=\"rétablis\")\n",
    "plot(x,y3 , color=\"black\",  linewidth=2.5, linestyle=\"-\", label=\"décédés\")\n",
    "\n",
    "\n",
    "ax = gca()\n",
    "ax.spines['right'].set_color('none')\n",
    "ax.spines['top'].set_color('none')\n",
    "ax.xaxis.set_ticks_position('bottom')\n",
    "ax.spines['bottom'].set_position(('data',0))\n",
    "ax.yaxis.set_ticks_position('left')\n",
    "ax.spines['left'].set_position(('data',0))\n",
    "\n",
    "legend(loc='lower right')\n",
    "\n",
    "title('propagation de la grippe espagnole ')\n",
    "show()"
   ]
  },
  {
   "cell_type": "markdown",
   "metadata": {},
   "source": [
    "# Variation de p_infect  :    la probabilité de mortalité "
   ]
  },
  {
   "cell_type": "markdown",
   "metadata": {},
   "source": [
    "# p_infect=0.2"
   ]
  },
  {
   "cell_type": "code",
   "execution_count": 46,
   "metadata": {
    "collapsed": true
   },
   "outputs": [],
   "source": [
    "n=5\n",
    "p=0.5\n",
    "p1=0.5\n",
    "p_infect=0.2\n",
    "temps_incubation=2"
   ]
  },
  {
   "cell_type": "code",
   "execution_count": 47,
   "metadata": {},
   "outputs": [
    {
     "name": "stdout",
     "output_type": "stream",
     "text": [
      "nombre de personnes infectees a chaque etapes\n",
      "[1, 1, 1, 1]\n",
      "nombre de personnes saines a chaque etapes\n",
      "[15, 15, 15, 15]\n",
      "nombre de personnes retablies a chaque etapes\n",
      "[1, 1, 1, 1]\n",
      "nombre de personnes decedees a chaque etapes\n",
      "[0, 0, 0, 0]\n"
     ]
    },
    {
     "data": {
      "image/png": "[encoded data removed]",
      "text/plain": [
       "<matplotlib.figure.Figure at 0xb94d908>"
      ]
     },
     "metadata": {},
     "output_type": "display_data"
    }
   ],
   "source": [
    "%matplotlib inline\n",
    "\n",
    "_,_,_,_,_,results,results1,results2,results3 = simulation_deplacement_nb(n-1,1,0,0,0)\n",
    "n = len(results)\n",
    "x = [i for i in range(n)]\n",
    "y = [results[i] for i in range(n)]\n",
    "y1= [results1[i] for i in range(n)]\n",
    "y2= [results2[i] for i in range(n)]\n",
    "y3= [results3[i] for i in range(n)]\n",
    "print(\"nombre de personnes infectees a chaque etapes\")\n",
    "print(y)\n",
    "print(\"nombre de personnes saines a chaque etapes\")\n",
    "print(y1)\n",
    "print(\"nombre de personnes retablies a chaque etapes\")\n",
    "print(y2)\n",
    "print(\"nombre de personnes decedees a chaque etapes\")\n",
    "print(y3)\n",
    "\n",
    "\n",
    "figure()\n",
    "plot(x, y, color=\"blue\", linewidth=2.5, linestyle=\"-\",  label=\"infectés\")\n",
    "plot(x,y1 , color=\"red\",  linewidth=2.5,linestyle=\"-\", label=\"sains\")\n",
    "plot(x,y2 , color=\"green\",  linewidth=2.5, linestyle=\"-\", label=\"rétablis\")\n",
    "plot(x,y3 , color=\"black\",  linewidth=2.5, linestyle=\"-\", label=\"décédés\")\n",
    "\n",
    "\n",
    "ax = gca()\n",
    "ax.spines['right'].set_color('none')\n",
    "ax.spines['top'].set_color('none')\n",
    "ax.xaxis.set_ticks_position('bottom') \n",
    "ax.spines['bottom'].set_position(('data',0))\n",
    "ax.yaxis.set_ticks_position('left')\n",
    "ax.spines['left'].set_position(('data',0))\n",
    "\n",
    "legend(loc='lower right')\n",
    "\n",
    "title('propagation de la grippe espagnole ')\n",
    "plt.savefig('graphique_propagation de la grippe espagnole.png', dpi=200)\n",
    "show()"
   ]
  },
  {
   "cell_type": "markdown",
   "metadata": {},
   "source": [
    "# Variation de p_infect"
   ]
  },
  {
   "cell_type": "markdown",
   "metadata": {},
   "source": [
    "# p_infect=0.7"
   ]
  },
  {
   "cell_type": "code",
   "execution_count": 48,
   "metadata": {
    "collapsed": true
   },
   "outputs": [],
   "source": [
    "n=5\n",
    "p=0.5\n",
    "p1=0.5  # il y a une forte chance que tous les infectés se rtablissent\n",
    "p_infect=0.7\n",
    "temps_incubation=2"
   ]
  },
  {
   "cell_type": "code",
   "execution_count": 49,
   "metadata": {},
   "outputs": [
    {
     "name": "stdout",
     "output_type": "stream",
     "text": [
      "nombre de personnes infectees a chaque etapes\n",
      "[11, 13, 15, 15]\n",
      "nombre de personnes saines a chaque etapes\n",
      "[4, 2, 0, 0]\n",
      "nombre de personnes retablies a chaque etapes\n",
      "[0, 5, 7, 9]\n",
      "nombre de personnes decedees a chaque etapes\n",
      "[1, 7, 7, 7]\n"
     ]
    },
    {
     "data": {
      "image/png": "[encoded data removed]",
      "text/plain": [
       "<matplotlib.figure.Figure at 0xb971fd0>"
      ]
     },
     "metadata": {},
     "output_type": "display_data"
    }
   ],
   "source": [
    "%matplotlib inline\n",
    "\n",
    "_,_,_,_,_,results,results1,results2,results3 = simulation_deplacement_nb(n-1,0,0,0,0)\n",
    "n = len(results)\n",
    "x = [i for i in range(n)]\n",
    "y = [results[i] for i in range(n)]\n",
    "y1= [results1[i] for i in range(n)]\n",
    "y2= [results2[i] for i in range(n)]\n",
    "y3= [results3[i] for i in range(n)]\n",
    "print(\"nombre de personnes infectees a chaque etapes\")\n",
    "print(y)\n",
    "print(\"nombre de personnes saines a chaque etapes\")\n",
    "print(y1)\n",
    "print(\"nombre de personnes retablies a chaque etapes\")\n",
    "print(y2)\n",
    "print(\"nombre de personnes decedees a chaque etapes\")\n",
    "print(y3)\n",
    "\n",
    "\n",
    "figure()\n",
    "plot(x, y, color=\"blue\", linewidth=2.5, linestyle=\"-\",  label=\"infectés\")\n",
    "plot(x,y1 , color=\"red\",  linewidth=2.5, linestyle=\"-\", label=\"sains\")\n",
    "plot(x,y2 , color=\"green\",  linewidth=2.5, linestyle=\"-\", label=\"rétablis\")\n",
    "plot(x,y3 , color=\"black\",  linewidth=2.5, linestyle=\"-\", label=\"décédés\")\n",
    "\n",
    "\n",
    "ax = gca()\n",
    "ax.spines['right'].set_color('none')\n",
    "ax.spines['top'].set_color('none')\n",
    "ax.xaxis.set_ticks_position('bottom') \n",
    "ax.spines['bottom'].set_position(('data',0))\n",
    "ax.yaxis.set_ticks_position('left')\n",
    "ax.spines['left'].set_position(('data',0))\n",
    "\n",
    "legend(loc='lower right')\n",
    "\n",
    "title('propagation de la grippe espagnole ')\n",
    "plt.savefig('graphique_propagation de la grippe espagnole.png', dpi=200)\n",
    "\n",
    "show()"
   ]
  },
  {
   "cell_type": "markdown",
   "metadata": {},
   "source": [
    "# Variation de p1 :probabilité de récupération "
   ]
  },
  {
   "cell_type": "markdown",
   "metadata": {},
   "source": [
    "# p1=0.1"
   ]
  },
  {
   "cell_type": "code",
   "execution_count": 50,
   "metadata": {
    "collapsed": true
   },
   "outputs": [],
   "source": [
    "n=5\n",
    "p=0.5\n",
    "p1=0.1  # il y a une forte chance que tous les infectés se rétablisssent\n",
    "p_infect=1\n",
    "temps_incubation=2"
   ]
  },
  {
   "cell_type": "code",
   "execution_count": 51,
   "metadata": {
    "scrolled": true
   },
   "outputs": [
    {
     "name": "stdout",
     "output_type": "stream",
     "text": [
      "nombre de personnes infectees a chaque etapes\n",
      "[12, 15, 15, 15]\n",
      "nombre de personnes saines a chaque etapes\n",
      "[3, 0, 0, 0]\n",
      "nombre de personnes retablies a chaque etapes\n",
      "[1, 11, 14, 14]\n",
      "nombre de personnes decedees a chaque etapes\n",
      "[0, 2, 2, 2]\n"
     ]
    },
    {
     "data": {
      "image/png": "[encoded data removed]",
      "text/plain": [
       "<matplotlib.figure.Figure at 0xba086a0>"
      ]
     },
     "metadata": {},
     "output_type": "display_data"
    }
   ],
   "source": [
    "%matplotlib inline\n",
    "\n",
    "_,_,_,_,_,results,results1,results2,results3 = simulation_deplacement_nb(n-1,0,0,0,0)\n",
    "n = len(results)\n",
    "x = [i for i in range(n)]\n",
    "y = [results[i] for i in range(n)]\n",
    "y1= [results1[i] for i in range(n)]\n",
    "y2= [results2[i] for i in range(n)]\n",
    "y3= [results3[i] for i in range(n)]\n",
    "print(\"nombre de personnes infectees a chaque etapes\")\n",
    "print(y)\n",
    "print(\"nombre de personnes saines a chaque etapes\")\n",
    "print(y1)\n",
    "print(\"nombre de personnes retablies a chaque etapes\")\n",
    "print(y2)\n",
    "print(\"nombre de personnes decedees a chaque etapes\")\n",
    "print(y3)\n",
    "\n",
    "\n",
    "figure()\n",
    "plot(x, y, color=\"blue\", linewidth=2.5, linestyle=\"-\",  label=\"infectés\")\n",
    "plot(x,y1 , color=\"red\",  linewidth=2.5, linestyle=\"-\", label=\"sains\")\n",
    "plot(x,y2 , color=\"green\",  linewidth=2.5, linestyle=\"-\", label=\"rétablis\")\n",
    "plot(x,y3 , color=\"black\",  linewidth=2.5, linestyle=\"-\", label=\"décédés\")\n",
    "\n",
    "\n",
    "ax = gca()\n",
    "ax.spines['right'].set_color('none')\n",
    "ax.spines['top'].set_color('none')\n",
    "ax.xaxis.set_ticks_position('bottom') \n",
    "ax.spines['bottom'].set_position(('data',0))\n",
    "ax.yaxis.set_ticks_position('left')\n",
    "ax.spines['left'].set_position(('data',0))\n",
    "\n",
    "legend(loc='lower right')\n",
    "\n",
    "title('propagation de la grippe espagnole ')\n",
    "plt.savefig('graphique_propagation de la grippe espagnole.png', dpi=200)\n",
    "\n",
    "show()"
   ]
  },
  {
   "cell_type": "code",
   "execution_count": 52,
   "metadata": {
    "collapsed": true
   },
   "outputs": [],
   "source": [
    "p1=1"
   ]
  },
  {
   "cell_type": "code",
   "execution_count": 53,
   "metadata": {
    "collapsed": true
   },
   "outputs": [],
   "source": [
    "n=5\n",
    "p=0.5\n",
    "p1=1  # il y a une forte chance que tous les infectés morent\n",
    "p_infect=1\n",
    "temps_incubation=2"
   ]
  },
  {
   "cell_type": "code",
   "execution_count": 54,
   "metadata": {},
   "outputs": [
    {
     "name": "stdout",
     "output_type": "stream",
     "text": [
      "nombre de personnes infectees a chaque etapes\n",
      "[8, 15, 15, 15]\n",
      "nombre de personnes saines a chaque etapes\n",
      "[7, 0, 0, 0]\n",
      "nombre de personnes retablies a chaque etapes\n",
      "[0, 0, 0, 0]\n",
      "nombre de personnes decedees a chaque etapes\n",
      "[1, 9, 16, 16]\n"
     ]
    },
    {
     "data": {
      "image/png": "[encoded data removed]",
      "text/plain": [
       "<matplotlib.figure.Figure at 0xb9b97b8>"
      ]
     },
     "metadata": {},
     "output_type": "display_data"
    }
   ],
   "source": [
    "%matplotlib inline\n",
    "\n",
    "_,_,_,_,_,results,results1,results2,results3 = simulation_deplacement_nb(n-1,0,0,0,0)\n",
    "n = len(results)\n",
    "x = [i for i in range(n)]\n",
    "y = [results[i] for i in range(n)]\n",
    "y1= [results1[i] for i in range(n)]\n",
    "y2= [results2[i] for i in range(n)]\n",
    "y3= [results3[i] for i in range(n)]\n",
    "print(\"nombre de personnes infectees a chaque etapes\")\n",
    "print(y)\n",
    "print(\"nombre de personnes saines a chaque etapes\")\n",
    "print(y1)\n",
    "print(\"nombre de personnes retablies a chaque etapes\")\n",
    "print(y2)\n",
    "print(\"nombre de personnes decedees a chaque etapes\")\n",
    "print(y3)\n",
    "\n",
    "\n",
    "figure()\n",
    "plot(x, y, color=\"blue\", linewidth=2.5, linestyle=\"-\",  label=\"infectés\")\n",
    "plot(x,y1 , color=\"red\",  linewidth=2.5, linestyle=\"-\", label=\"sains\")\n",
    "plot(x,y2 , color=\"green\",  linewidth=2.5, linestyle=\"-\", label=\"rétablis\")\n",
    "plot(x,y3 , color=\"black\",  linewidth=2.5, linestyle=\"-\", label=\"décédés\")\n",
    "\n",
    "\n",
    "ax = gca()\n",
    "ax.spines['right'].set_color('none')\n",
    "ax.spines['top'].set_color('none')\n",
    "ax.xaxis.set_ticks_position('bottom') \n",
    "ax.spines['bottom'].set_position(('data',0))\n",
    "ax.yaxis.set_ticks_position('left')\n",
    "ax.spines['left'].set_position(('data',0))\n",
    "\n",
    "legend(loc='lower right')\n",
    "\n",
    "title('propagation de la grippe espagnole ')\n",
    "plt.savefig('graphique_propagation de la grippe espagnole.png', dpi=200)\n",
    "\n",
    "show()"
   ]
  },
  {
   "cell_type": "markdown",
   "metadata": {},
   "source": [
    "# Variation de la probabilté p  :probabilité qui permet le déplacement "
   ]
  },
  {
   "cell_type": "markdown",
   "metadata": {},
   "source": [
    "# p=0"
   ]
  },
  {
   "cell_type": "code",
   "execution_count": 55,
   "metadata": {
    "collapsed": true
   },
   "outputs": [],
   "source": [
    "n=5\n",
    "p=0 #c 'est une probabilité qui détermine si une personne veut se déplacer p=0 i.e la personne ne se déplace pas \n",
    "p1=0.5 \n",
    "p_infect=1\n",
    "temps_incubation=2"
   ]
  },
  {
   "cell_type": "code",
   "execution_count": 56,
   "metadata": {},
   "outputs": [
    {
     "name": "stdout",
     "output_type": "stream",
     "text": [
      "nombre de personnes infectees a chaque etapes\n",
      "[14, 15, 15, 15]\n",
      "nombre de personnes saines a chaque etapes\n",
      "[1, 0, 0, 0]\n",
      "nombre de personnes retablies a chaque etapes\n",
      "[1, 13, 14, 14]\n",
      "nombre de personnes decedees a chaque etapes\n",
      "[0, 2, 2, 2]\n"
     ]
    },
    {
     "data": {
      "image/png": "[encoded data removed]",
      "text/plain": [
       "<matplotlib.figure.Figure at 0x8f8fe10>"
      ]
     },
     "metadata": {},
     "output_type": "display_data"
    }
   ],
   "source": [
    "%matplotlib inline\n",
    "\n",
    "_,_,_,_,_,results,results1,results2,results3 = simulation_deplacement_nb(n-1,0,0,0,0)\n",
    "n = len(results)\n",
    "x = [i for i in range(n)]\n",
    "y = [results[i] for i in range(n)]\n",
    "y1= [results1[i] for i in range(n)]\n",
    "y2= [results2[i] for i in range(n)]\n",
    "y3= [results3[i] for i in range(n)]\n",
    "print(\"nombre de personnes infectees a chaque etapes\")\n",
    "print(y)\n",
    "print(\"nombre de personnes saines a chaque etapes\")\n",
    "print(y1)\n",
    "print(\"nombre de personnes retablies a chaque etapes\")\n",
    "print(y2)\n",
    "print(\"nombre de personnes decedees a chaque etapes\")\n",
    "print(y3)\n",
    "\n",
    "\n",
    "figure()\n",
    "plot(x, y, color=\"blue\", linewidth=2.5, linestyle=\"-\",  label=\"infectés\")\n",
    "plot(x,y1 , color=\"red\",  linewidth=2.5, linestyle=\"-\", label=\"sains\")\n",
    "plot(x,y2 , color=\"green\",  linewidth=2.5, linestyle=\"-\", label=\"rétablis\")\n",
    "plot(x,y3 , color=\"black\",  linewidth=2.5, linestyle=\"-\", label=\"décédés\")\n",
    "\n",
    "\n",
    "ax = gca()\n",
    "ax.spines['right'].set_color('none')\n",
    "ax.spines['top'].set_color('none')\n",
    "ax.xaxis.set_ticks_position('bottom') \n",
    "ax.spines['bottom'].set_position(('data',0))\n",
    "ax.yaxis.set_ticks_position('left')\n",
    "ax.spines['left'].set_position(('data',0))\n",
    "\n",
    "legend(loc='lower right')\n",
    "\n",
    "title('propagation de la grippe espagnole ')\n",
    "show()"
   ]
  },
  {
   "cell_type": "markdown",
   "metadata": {},
   "source": [
    "# Variation du temps d'incubation"
   ]
  },
  {
   "cell_type": "markdown",
   "metadata": {},
   "source": [
    "# p=0.5"
   ]
  },
  {
   "cell_type": "code",
   "execution_count": 57,
   "metadata": {
    "collapsed": true
   },
   "outputs": [],
   "source": [
    "n=5\n",
    "p=0.5\n",
    "p1=0.5  #prbabilité de récuperation\n",
    "p_infect=1 #probabilité de mortalité \n",
    "temps_incubation=30  # i.e tous les individus infectes sont en état d'incubation on n'aura pas de personnes rétablies ni décédées"
   ]
  },
  {
   "cell_type": "code",
   "execution_count": 58,
   "metadata": {},
   "outputs": [
    {
     "name": "stdout",
     "output_type": "stream",
     "text": [
      "nombre de personnes infectees a chaque etapes\n",
      "[16, 16, 16, 16]\n",
      "nombre de personnes saines a chaque etapes\n",
      "[0, 0, 0, 0]\n",
      "nombre de personnes retablies a chaque etapes\n",
      "[0, 0, 0, 0]\n",
      "nombre de personnes decedees a chaque etapes\n",
      "[0, 0, 0, 0]\n"
     ]
    },
    {
     "data": {
      "image/png": "[encoded data removed]",
      "text/plain": [
       "<matplotlib.figure.Figure at 0xb94d080>"
      ]
     },
     "metadata": {},
     "output_type": "display_data"
    }
   ],
   "source": [
    "%matplotlib inline\n",
    "\n",
    "_,_,_,_,_,results,results1,results2,results3 = simulation_deplacement_nb(n-1,0,0,0,0)\n",
    "n = len(results)\n",
    "x = [i for i in range(n)]\n",
    "y = [results[i] for i in range(n)]\n",
    "y1= [results1[i] for i in range(n)]\n",
    "y2= [results2[i] for i in range(n)]\n",
    "y3= [results3[i] for i in range(n)]\n",
    "print(\"nombre de personnes infectees a chaque etapes\")\n",
    "print(y)\n",
    "print(\"nombre de personnes saines a chaque etapes\")\n",
    "print(y1)\n",
    "print(\"nombre de personnes retablies a chaque etapes\")\n",
    "print(y2)\n",
    "print(\"nombre de personnes decedees a chaque etapes\")\n",
    "print(y3)\n",
    "\n",
    "\n",
    "figure()\n",
    "plot(x, y, color=\"blue\", linewidth=2.5, linestyle=\"-\",  label=\"infectés\")\n",
    "plot(x,y1 , color=\"red\",  linewidth=2.5, linestyle=\"-\", label=\"sains\")\n",
    "plot(x,y2 , color=\"green\",  linewidth=2.5, linestyle=\"-\", label=\"rétablis\")\n",
    "plot(x,y3 , color=\"black\",  linewidth=2.5, linestyle=\"-\", label=\"décédés\")\n",
    "\n",
    "\n",
    "ax = gca()\n",
    "ax.spines['right'].set_color('none')\n",
    "ax.spines['top'].set_color('none')\n",
    "ax.xaxis.set_ticks_position('bottom') \n",
    "ax.spines['bottom'].set_position(('data',0))\n",
    "ax.yaxis.set_ticks_position('left')\n",
    "ax.spines['left'].set_position(('data',0))\n",
    "\n",
    "legend(loc='lower right')\n",
    "\n",
    "title('propagation de la grippe espagnole ')\n",
    "plt.savefig('graphique_propagation de la grippe espagnole.png', dpi=200)\n",
    "\n",
    "show()"
   ]
  },
  {
   "cell_type": "markdown",
   "metadata": {},
   "source": [
    "# Representation graphique du nombre des infectées en fonction des étapes "
   ]
  },
  {
   "cell_type": "code",
   "execution_count": 60,
   "metadata": {
    "collapsed": true
   },
   "outputs": [],
   "source": [
    "n=5     #cas de base\n",
    "p=0.5\n",
    "p1=0.5\n",
    "p_infect=0.5\n",
    "temps_incubation=2"
   ]
  },
  {
   "cell_type": "code",
   "execution_count": 61,
   "metadata": {},
   "outputs": [
    {
     "name": "stdout",
     "output_type": "stream",
     "text": [
      "#####\n",
      "[0, 1, 2, 3, 4, 5, 6, 7, 8, 9]\n",
      "[10, 11, 11, 11, 11, 11, 11, 11, 11, 11]\n"
     ]
    },
    {
     "data": {
      "image/png": "[encoded data removed]",
      "text/plain": [
       "<matplotlib.figure.Figure at 0x8f8fc50>"
      ]
     },
     "metadata": {},
     "output_type": "display_data"
    }
   ],
   "source": [
    "%matplotlib inline\n",
    "\n",
    "_,_,_,_,_,results,_ ,_,_= simulation_deplacement_nb()\n",
    "n = len(results)\n",
    "x = [i for i in range(n)]\n",
    "y = [results[i] for i in range(n)]\n",
    "    \n",
    "print(\"#####\")\n",
    "print(x)\n",
    "print(y)\n",
    "\n",
    "figure()\n",
    "plot(x, y, color=\"blue\", linewidth=2.5, linestyle=\"-\",  label=\"infectés\")\n",
    "xlabel('étapes')\n",
    "ylabel('nb_infectés')\n",
    "ax = gca()\n",
    "ax.spines['right'].set_color('none')\n",
    "ax.spines['top'].set_color('none')\n",
    "ax.xaxis.set_ticks_position('bottom')\n",
    "ax.spines['bottom'].set_position(('data',0))\n",
    "ax.yaxis.set_ticks_position('left')\n",
    "ax.spines['left'].set_position(('data',0))\n",
    "\n",
    "legend(loc='lower right')\n",
    "title('nombre de personnes infectées à chaque étapes')\n",
    "plt.savefig('graphique_propagation de la grippe espagnole.png', dpi=200)\n",
    "\n",
    "show()"
   ]
  },
  {
   "cell_type": "markdown",
   "metadata": {},
   "source": [
    "# Variation des paraètres"
   ]
  },
  {
   "cell_type": "markdown",
   "metadata": {},
   "source": [
    "# variation de p_infect "
   ]
  },
  {
   "cell_type": "markdown",
   "metadata": {},
   "source": [
    "# p_infect=0.1 #une forte chance que les individus sains ne soient pas infectés"
   ]
  },
  {
   "cell_type": "code",
   "execution_count": 62,
   "metadata": {
    "collapsed": true
   },
   "outputs": [],
   "source": [
    "n=15\n",
    "p=0.5\n",
    "p1=0.5\n",
    "p_infect=0.1\n",
    "temps_incubation=2"
   ]
  },
  {
   "cell_type": "code",
   "execution_count": 63,
   "metadata": {},
   "outputs": [
    {
     "name": "stdout",
     "output_type": "stream",
     "text": [
      "#####\n",
      "[0, 1, 2, 3, 4, 5, 6, 7, 8, 9]\n",
      "[2, 2, 2, 2, 2, 2, 2, 2, 2, 2]\n"
     ]
    },
    {
     "data": {
      "image/png": "[encoded data removed]",
      "text/plain": [
       "<matplotlib.figure.Figure at 0x91e5e48>"
      ]
     },
     "metadata": {},
     "output_type": "display_data"
    }
   ],
   "source": [
    "%matplotlib inline\n",
    "\n",
    "_,_,_,_,_,results,_ ,_,_= simulation_deplacement_nb()\n",
    "n = len(results)\n",
    "x = [i for i in range(n)]\n",
    "y = [results[i] for i in range(n)]\n",
    "    \n",
    "print(\"#####\")\n",
    "print(x)\n",
    "print(y)\n",
    "\n",
    "figure()\n",
    "plot(x, y, color=\"blue\", linewidth=2.5, linestyle=\"-\",  label=\"infectés\")\n",
    "xlabel('étapes')\n",
    "ylabel('nb_infectés')\n",
    "ax = gca()\n",
    "ax.spines['right'].set_color('none')\n",
    "ax.spines['top'].set_color('none')\n",
    "ax.xaxis.set_ticks_position('bottom')\n",
    "ax.spines['bottom'].set_position(('data',0))\n",
    "ax.yaxis.set_ticks_position('left')\n",
    "ax.spines['left'].set_position(('data',0))\n",
    "\n",
    "legend(loc='lower right')\n",
    "title('nombre de personnes infectées à chaque étapes')\n",
    "plt.savefig('graphique_propagation de la grippe espagnole.png', dpi=200)\n",
    "\n",
    "show()"
   ]
  },
  {
   "cell_type": "markdown",
   "metadata": {},
   "source": [
    "# Variation de p_infect   \"la probabilité de mortalité est  proche de 1\""
   ]
  },
  {
   "cell_type": "code",
   "execution_count": 72,
   "metadata": {
    "collapsed": true
   },
   "outputs": [],
   "source": [
    "n=5\n",
    "p=0.5\n",
    "p1=0.5\n",
    "p_infect=0.7\n",
    "temps_incubation=2"
   ]
  },
  {
   "cell_type": "code",
   "execution_count": 73,
   "metadata": {},
   "outputs": [
    {
     "name": "stdout",
     "output_type": "stream",
     "text": [
      "#####\n",
      "[0, 1, 2, 3, 4, 5, 6, 7, 8, 9]\n",
      "[8, 12, 13, 14, 15, 15, 15, 15, 15, 15]\n"
     ]
    },
    {
     "data": {
      "image/png": "[encoded data removed]",
      "text/plain": [
       "<matplotlib.figure.Figure at 0x95ad8d0>"
      ]
     },
     "metadata": {},
     "output_type": "display_data"
    }
   ],
   "source": [
    "%matplotlib inline\n",
    "\n",
    "_,_,_,_,_,results,_ ,_,_= simulation_deplacement_nb()\n",
    "n = len(results)\n",
    "x = [i for i in range(n)]\n",
    "y = [results[i] for i in range(n)]\n",
    "    \n",
    "print(\"#####\")\n",
    "print(x)\n",
    "print(y)\n",
    "\n",
    "figure()\n",
    "plot(x, y, color=\"blue\", linewidth=2.5, linestyle=\"-\",  label=\"infectés\")\n",
    "xlabel('étapes')\n",
    "ylabel('nb_infectés')\n",
    "ax = gca()\n",
    "ax.spines['right'].set_color('none')\n",
    "ax.spines['top'].set_color('none')\n",
    "ax.xaxis.set_ticks_position('bottom')\n",
    "ax.spines['bottom'].set_position(('data',0))\n",
    "ax.yaxis.set_ticks_position('left')\n",
    "ax.spines['left'].set_position(('data',0))\n",
    "\n",
    "legend(loc='lower right')\n",
    "title('nombre de personnes infectées à chaque étapes')\n",
    "plt.savefig('graphique_propagation de la grippe espagnole.png', dpi=200)\n",
    "\n",
    "show()"
   ]
  },
  {
   "cell_type": "markdown",
   "metadata": {},
   "source": [
    "# Variation de p_infect    \"p_infect   très petit \""
   ]
  },
  {
   "cell_type": "code",
   "execution_count": 66,
   "metadata": {
    "collapsed": true
   },
   "outputs": [],
   "source": [
    "n=5\n",
    "p=0.5\n",
    "p1=0.5\n",
    "p_infect=0.1\n",
    "temps_incubation=2"
   ]
  },
  {
   "cell_type": "code",
   "execution_count": 67,
   "metadata": {},
   "outputs": [
    {
     "name": "stdout",
     "output_type": "stream",
     "text": [
      "#####\n",
      "[0, 1, 2, 3, 4, 5, 6, 7, 8, 9]\n",
      "[2, 2, 2, 2, 2, 2, 2, 2, 2, 2]\n"
     ]
    },
    {
     "data": {
      "image/png": "[encoded data removed]",
      "text/plain": [
       "<matplotlib.figure.Figure at 0xa9c3c18>"
      ]
     },
     "metadata": {},
     "output_type": "display_data"
    }
   ],
   "source": [
    "%matplotlib inline\n",
    "\n",
    "_,_,_,_,_,results,_ ,_,_= simulation_deplacement_nb()\n",
    "n = len(results)\n",
    "x = [i for i in range(n)]\n",
    "y = [results[i] for i in range(n)]\n",
    "    \n",
    "print(\"#####\")\n",
    "print(x)\n",
    "print(y)\n",
    "\n",
    "figure()\n",
    "plot(x, y, color=\"blue\", linewidth=2.5, linestyle=\"-\",  label=\"infectés\")\n",
    "xlabel('étapes')\n",
    "ylabel('nb_infectés')\n",
    "ax = gca()\n",
    "ax.spines['right'].set_color('none')\n",
    "ax.spines['top'].set_color('none')\n",
    "ax.xaxis.set_ticks_position('bottom')\n",
    "ax.spines['bottom'].set_position(('data',0))\n",
    "ax.yaxis.set_ticks_position('left')\n",
    "ax.spines['left'].set_position(('data',0))\n",
    "\n",
    "legend(loc='lower right')\n",
    "title('nombre de personnes infectées à chaque étapes')\n",
    "show()"
   ]
  },
  {
   "cell_type": "markdown",
   "metadata": {},
   "source": [
    "# p_infect =0.5 l'individu a une chance sur deux d'etre infecté"
   ]
  },
  {
   "cell_type": "code",
   "execution_count": 70,
   "metadata": {
    "collapsed": true
   },
   "outputs": [],
   "source": [
    "n=5\n",
    "p=0.5\n",
    "p1=0.5\n",
    "p_infect=0.5\n",
    "temps_incubation=2"
   ]
  },
  {
   "cell_type": "code",
   "execution_count": 71,
   "metadata": {},
   "outputs": [
    {
     "name": "stdout",
     "output_type": "stream",
     "text": [
      "#####\n",
      "[0, 1, 2, 3, 4, 5, 6, 7, 8, 9]\n",
      "[5, 7, 7, 7, 7, 7, 7, 7, 7, 7]\n"
     ]
    },
    {
     "data": {
      "image/png": "[encoded data removed]",
      "text/plain": [
       "<matplotlib.figure.Figure at 0xaca1588>"
      ]
     },
     "metadata": {},
     "output_type": "display_data"
    }
   ],
   "source": [
    "%matplotlib inline\n",
    "\n",
    "_,_,_,_,_,results,_ ,_,_= simulation_deplacement_nb()\n",
    "n = len(results)\n",
    "x = [i for i in range(n)]\n",
    "y = [results[i] for i in range(n)]\n",
    "    \n",
    "print(\"#####\")\n",
    "print(x)\n",
    "print(y)\n",
    "\n",
    "figure()\n",
    "plot(x, y, color=\"blue\", linewidth=2.5, linestyle=\"-\",  label=\"infectés\")\n",
    "xlabel('étapes')\n",
    "ylabel('nb_infectés')\n",
    "ax = gca()\n",
    "ax.spines['right'].set_color('none')\n",
    "ax.spines['top'].set_color('none')\n",
    "ax.xaxis.set_ticks_position('bottom')\n",
    "ax.spines['bottom'].set_position(('data',0))\n",
    "ax.yaxis.set_ticks_position('left')\n",
    "ax.spines['left'].set_position(('data',0))\n",
    "\n",
    "legend(loc='lower right')\n",
    "title('nombre de personnes infectées à chaque étapes')\n",
    "show()"
   ]
  },
  {
   "cell_type": "markdown",
   "metadata": {},
   "source": [
    "# p_infect =0 aucune chance qu'un individu soit infecté a part la premiere personne contagieuse"
   ]
  },
  {
   "cell_type": "code",
   "execution_count": 74,
   "metadata": {
    "collapsed": true
   },
   "outputs": [],
   "source": [
    "n=5\n",
    "p=0.5\n",
    "p1=0.5\n",
    "p_infect=0.0\n",
    "temps_incubation=2\n"
   ]
  },
  {
   "cell_type": "code",
   "execution_count": 75,
   "metadata": {},
   "outputs": [
    {
     "name": "stdout",
     "output_type": "stream",
     "text": [
      "#####\n",
      "[0, 1, 2, 3, 4, 5, 6, 7, 8, 9]\n",
      "[1, 1, 1, 1, 1, 1, 1, 1, 1, 1]\n"
     ]
    },
    {
     "data": {
      "image/png": "[encoded data removed]",
      "text/plain": [
       "<matplotlib.figure.Figure at 0x9560160>"
      ]
     },
     "metadata": {},
     "output_type": "display_data"
    }
   ],
   "source": [
    "%matplotlib inline\n",
    "\n",
    "_,_,_,_,_,results,_ ,_,_= simulation_deplacement_nb()\n",
    "n = len(results)\n",
    "x = [i for i in range(n)]\n",
    "y = [results[i] for i in range(n)]\n",
    "    \n",
    "print(\"#####\")\n",
    "print(x)\n",
    "print(y)\n",
    "\n",
    "figure()\n",
    "plot(x, y, color=\"blue\", linewidth=2.5, linestyle=\"-\",  label=\"infectés\")\n",
    "xlabel('étapes')\n",
    "ylabel('nb_infectés')\n",
    "ax = gca()\n",
    "ax.spines['right'].set_color('none')\n",
    "ax.spines['top'].set_color('none')\n",
    "ax.xaxis.set_ticks_position('bottom')\n",
    "ax.spines['bottom'].set_position(('data',0))\n",
    "ax.yaxis.set_ticks_position('left')\n",
    "ax.spines['left'].set_position(('data',0))\n",
    "\n",
    "legend(loc='lower right')\n",
    "title('nombre de personnes infectées à chaque étapes')\n",
    "show()"
   ]
  },
  {
   "cell_type": "markdown",
   "metadata": {},
   "source": [
    "# Representation graphique du nombre de personnes saines "
   ]
  },
  {
   "cell_type": "code",
   "execution_count": 82,
   "metadata": {
    "collapsed": true
   },
   "outputs": [],
   "source": [
    "n=5      #cas de base \n",
    "p=0.5\n",
    "p1=0.5\n",
    "p_infect=0.5\n",
    "temps_incubation=2"
   ]
  },
  {
   "cell_type": "code",
   "execution_count": 83,
   "metadata": {},
   "outputs": [
    {
     "name": "stdout",
     "output_type": "stream",
     "text": [
      "#####\n",
      "[0, 1, 2, 3, 4, 5, 6, 7, 8, 9]\n",
      "[14, 14, 14, 14, 14, 14, 14, 14, 14, 14]\n"
     ]
    },
    {
     "data": {
      "image/png": "[encoded data removed]",
      "text/plain": [
       "<matplotlib.figure.Figure at 0xb9c00b8>"
      ]
     },
     "metadata": {},
     "output_type": "display_data"
    }
   ],
   "source": [
    "%matplotlib inline\n",
    "\n",
    "_,_,_,_,_,_,results,_,_= simulation_deplacement_nb()\n",
    "n = len(results)\n",
    "x = [i for i in range(n)]\n",
    "y = [results[i] for i in range(n)]\n",
    "    \n",
    "print(\"#####\")\n",
    "print(x)\n",
    "print(y)\n",
    "\n",
    "figure()\n",
    "plot(x,y , color=\"red\",  linewidth=2.5, linestyle=\"-\", label=\"sains\")\n",
    "xlabel('étapes')\n",
    "ylabel('nb_sains')\n",
    "ax = gca()\n",
    "ax.spines['right'].set_color('none')\n",
    "ax.spines['top'].set_color('none')\n",
    "ax.xaxis.set_ticks_position('bottom')\n",
    "ax.spines['bottom'].set_position(('data',0))\n",
    "ax.yaxis.set_ticks_position('left')\n",
    "ax.spines['left'].set_position(('data',0))\n",
    "\n",
    "legend(loc='lower right')\n",
    "title('nombre depersonnes saines à chaque étapes')\n",
    "#plt.savefig('graphique_propagation de la grippe espagnole.png', dpi=200)\n",
    "\n",
    "show()"
   ]
  },
  {
   "cell_type": "markdown",
   "metadata": {},
   "source": [
    "# Variation des paramètres"
   ]
  },
  {
   "cell_type": "markdown",
   "metadata": {},
   "source": [
    "# Variation de p_infect et n\n",
    "# p_infect=0.1"
   ]
  },
  {
   "cell_type": "code",
   "execution_count": 88,
   "metadata": {
    "collapsed": true
   },
   "outputs": [],
   "source": [
    "n=5\n",
    "p=0.5\n",
    "p1=0.5\n",
    "p_infect=0.1 #faible chance que la personne soit infectée  c'est à dire le nombre de personnes saines est constant\n",
    "temps_incubation=2"
   ]
  },
  {
   "cell_type": "code",
   "execution_count": 87,
   "metadata": {},
   "outputs": [
    {
     "name": "stdout",
     "output_type": "stream",
     "text": [
      "#####\n",
      "[0, 1, 2, 3, 4, 5, 6, 7, 8, 9]\n",
      "[15, 15, 15, 15, 15, 15, 15, 15, 15, 15]\n"
     ]
    },
    {
     "data": {
      "image/png": "[encoded data removed]",
      "text/plain": [
       "<matplotlib.figure.Figure at 0x95c5f28>"
      ]
     },
     "metadata": {},
     "output_type": "display_data"
    }
   ],
   "source": [
    "%matplotlib inline\n",
    "\n",
    "_,_,_,_,_,_,results,_,_= simulation_deplacement_nb()\n",
    "n = len(results)\n",
    "x = [i for i in range(n)]\n",
    "y = [results[i] for i in range(n)]\n",
    "    \n",
    "print(\"#####\")\n",
    "print(x)\n",
    "print(y)\n",
    "\n",
    "figure()\n",
    "plot(x,y , color=\"red\",  linewidth=2.5, linestyle=\"-\", label=\"sains\")\n",
    "xlabel('étapes')\n",
    "ylabel('nb_sains')\n",
    "ax = gca()\n",
    "ax.spines['right'].set_color('none')\n",
    "ax.spines['top'].set_color('none')\n",
    "ax.xaxis.set_ticks_position('bottom')\n",
    "ax.spines['bottom'].set_position(('data',0))\n",
    "ax.yaxis.set_ticks_position('left')\n",
    "ax.spines['left'].set_position(('data',0))\n",
    "\n",
    "legend(loc='lower right')\n",
    "title('nombre depersonnes saines à chaque étapes')\n",
    "plt.savefig('graphique_propagation de la grippe espagnole.png', dpi=200)\n",
    "\n",
    "show()"
   ]
  },
  {
   "cell_type": "markdown",
   "metadata": {},
   "source": [
    "# p_infect=0.7"
   ]
  },
  {
   "cell_type": "code",
   "execution_count": 95,
   "metadata": {
    "collapsed": true
   },
   "outputs": [],
   "source": [
    "n=5\n",
    "p=0.5\n",
    "p1=0.5\n",
    "p_infect=0.7\n",
    "temps_incubation=2"
   ]
  },
  {
   "cell_type": "code",
   "execution_count": 96,
   "metadata": {},
   "outputs": [
    {
     "name": "stdout",
     "output_type": "stream",
     "text": [
      "#####\n",
      "[0, 1, 2, 3, 4, 5, 6, 7, 8, 9]\n",
      "[9, 5, 4, 2, 2, 2, 2, 2, 2, 2]\n"
     ]
    },
    {
     "data": {
      "image/png": "[encoded data removed]",
      "text/plain": [
       "<matplotlib.figure.Figure at 0xaa0b048>"
      ]
     },
     "metadata": {},
     "output_type": "display_data"
    }
   ],
   "source": [
    "%matplotlib inline\n",
    "\n",
    "_,_,_,_,_,_,results,_,_= simulation_deplacement_nb()\n",
    "n = len(results)\n",
    "x = [i for i in range(n)]\n",
    "y = [results[i] for i in range(n)]\n",
    "    \n",
    "print(\"#####\")\n",
    "print(x)\n",
    "print(y)\n",
    "\n",
    "figure()\n",
    "plot(x,y , color=\"red\",  linewidth=2.5, linestyle=\"-\", label=\"sains\")\n",
    "xlabel('étapes')\n",
    "ylabel('nb_sains')\n",
    "ax = gca()\n",
    "ax.spines['right'].set_color('none')\n",
    "ax.spines['top'].set_color('none')\n",
    "ax.xaxis.set_ticks_position('bottom')\n",
    "ax.spines['bottom'].set_position(('data',0))\n",
    "ax.yaxis.set_ticks_position('left')\n",
    "ax.spines['left'].set_position(('data',0))\n",
    "\n",
    "legend(loc='lower right')\n",
    "title('nombre depersonnes saines à chaque étapes')\n",
    "#plt.savefig('graphique_propagation de la grippe espagnole.png', dpi=200)\n",
    "\n",
    "show()"
   ]
  },
  {
   "cell_type": "markdown",
   "metadata": {},
   "source": [
    "# Variation de n\n"
   ]
  },
  {
   "cell_type": "code",
   "execution_count": 97,
   "metadata": {
    "collapsed": true
   },
   "outputs": [],
   "source": [
    "n=9\n",
    "p=0.5\n",
    "p1=0.5\n",
    "p_infect=1\n",
    "temps_incubation=2\n",
    "M= grille(n)\n",
    "N=grille_case_vide(n,M)"
   ]
  },
  {
   "cell_type": "code",
   "execution_count": 98,
   "metadata": {},
   "outputs": [
    {
     "name": "stdout",
     "output_type": "stream",
     "text": [
      "#####\n",
      "[0, 1, 2, 3, 4, 5, 6, 7, 8, 9]\n",
      "[11, 5, 0, 0, 0, 0, 0, 0, 0, 0]\n"
     ]
    },
    {
     "data": {
      "image/png": "[encoded data removed]",
      "text/plain": [
       "<matplotlib.figure.Figure at 0xaa0b748>"
      ]
     },
     "metadata": {},
     "output_type": "display_data"
    }
   ],
   "source": [
    "%matplotlib inline\n",
    "\n",
    "_,_,_,_,_,_,results,_,_= simulation_deplacement_nb()\n",
    "n = len(results)\n",
    "x = [i for i in range(n)]\n",
    "y = [results[i] for i in range(n)]\n",
    "    \n",
    "print(\"#####\")\n",
    "print(x)\n",
    "print(y)\n",
    "\n",
    "figure()\n",
    "plot(x,y , color=\"red\",  linewidth=2.5, linestyle=\"-\", label=\"sains\")\n",
    "xlabel('étapes')\n",
    "ylabel('nb_sains')\n",
    "ax = gca()\n",
    "ax.spines['right'].set_color('none')\n",
    "ax.spines['top'].set_color('none')\n",
    "ax.xaxis.set_ticks_position('bottom')\n",
    "ax.spines['bottom'].set_position(('data',0))\n",
    "ax.yaxis.set_ticks_position('left')\n",
    "ax.spines['left'].set_position(('data',0))\n",
    "\n",
    "legend(loc='lower right')\n",
    "title('nombre depersonnes saines à chaque étapes')\n",
    "show()"
   ]
  },
  {
   "cell_type": "markdown",
   "metadata": {},
   "source": [
    "# p_infect=0.3 et n=9"
   ]
  },
  {
   "cell_type": "code",
   "execution_count": 101,
   "metadata": {
    "collapsed": true
   },
   "outputs": [],
   "source": [
    "n=9\n",
    "p=0.5\n",
    "p1=0.5\n",
    "p_infect=0.3\n",
    "temps_incubation=2\n",
    "M= grille(n)\n",
    "N=grille_case_vide(n,M)"
   ]
  },
  {
   "cell_type": "code",
   "execution_count": 100,
   "metadata": {},
   "outputs": [
    {
     "name": "stdout",
     "output_type": "stream",
     "text": [
      "#####\n",
      "[0, 1, 2, 3, 4, 5, 6, 7, 8, 9]\n",
      "[54, 54, 54, 54, 54, 54, 54, 54, 54, 54]\n"
     ]
    },
    {
     "data": {
      "image/png": "[encoded data removed]",
      "text/plain": [
       "<matplotlib.figure.Figure at 0xb557160>"
      ]
     },
     "metadata": {},
     "output_type": "display_data"
    }
   ],
   "source": [
    "%matplotlib inline\n",
    "\n",
    "_,_,_,_,_,_,results,_,_= simulation_deplacement_nb()\n",
    "n = len(results)\n",
    "x = [i for i in range(n)]\n",
    "y = [results[i] for i in range(n)]\n",
    "    \n",
    "print(\"#####\")\n",
    "print(x)\n",
    "print(y)\n",
    "\n",
    "figure()\n",
    "plot(x,y , color=\"red\",  linewidth=2.5, linestyle=\"-\", label=\"sains\")\n",
    "xlabel('étapes')\n",
    "ylabel('nb_sains')\n",
    "ax = gca()\n",
    "ax.spines['right'].set_color('none')\n",
    "ax.spines['top'].set_color('none')\n",
    "ax.xaxis.set_ticks_position('bottom')\n",
    "ax.spines['bottom'].set_position(('data',0))\n",
    "ax.yaxis.set_ticks_position('left')\n",
    "ax.spines['left'].set_position(('data',0))\n",
    "\n",
    "legend(loc='lower right')\n",
    "title('nombre depersonnes saines à chaque étapes')\n",
    "show()"
   ]
  },
  {
   "cell_type": "markdown",
   "metadata": {},
   "source": [
    "# Variation de p: permet d'effectuer le deplacement"
   ]
  },
  {
   "cell_type": "code",
   "execution_count": 102,
   "metadata": {
    "collapsed": true
   },
   "outputs": [],
   "source": [
    "n=9\n",
    "p=1\n",
    "p1=0.5\n",
    "p_infect=1\n",
    "temps_incubation=2"
   ]
  },
  {
   "cell_type": "code",
   "execution_count": 103,
   "metadata": {},
   "outputs": [
    {
     "name": "stdout",
     "output_type": "stream",
     "text": [
      "#####\n",
      "[0, 1, 2, 3, 4, 5, 6, 7, 8, 9]\n",
      "[8, 1, 1, 1, 1, 1, 1, 1, 1, 1]\n"
     ]
    },
    {
     "data": {
      "image/png": "[encoded data removed]",
      "text/plain": [
       "<matplotlib.figure.Figure at 0xa9e5780>"
      ]
     },
     "metadata": {},
     "output_type": "display_data"
    }
   ],
   "source": [
    "%matplotlib inline\n",
    "\n",
    "_,_,_,_,_,_,results,_,_= simulation_deplacement_nb()\n",
    "n = len(results)\n",
    "x = [i for i in range(n)]\n",
    "y = [results[i] for i in range(n)]\n",
    "    \n",
    "print(\"#####\")\n",
    "print(x)\n",
    "print(y)\n",
    "\n",
    "figure()\n",
    "plot(x,y , color=\"red\",  linewidth=2.5, linestyle=\"-\", label=\"sains\")\n",
    "xlabel('étapes')\n",
    "ylabel('nb_sains')\n",
    "ax = gca()\n",
    "ax.spines['right'].set_color('none')\n",
    "ax.spines['top'].set_color('none')\n",
    "ax.xaxis.set_ticks_position('bottom')\n",
    "ax.spines['bottom'].set_position(('data',0))\n",
    "ax.yaxis.set_ticks_position('left')\n",
    "ax.spines['left'].set_position(('data',0))\n",
    "\n",
    "legend(loc='lower right')\n",
    "title('nombre depersonnes saines à chaque étapes')\n",
    "show()"
   ]
  },
  {
   "cell_type": "markdown",
   "metadata": {},
   "source": [
    "# p=0.1"
   ]
  },
  {
   "cell_type": "code",
   "execution_count": 104,
   "metadata": {
    "collapsed": true
   },
   "outputs": [],
   "source": [
    "n=9\n",
    "p=0.1\n",
    "p1=0.5\n",
    "p_infect=1\n",
    "temps_incubation=2"
   ]
  },
  {
   "cell_type": "code",
   "execution_count": 105,
   "metadata": {},
   "outputs": [
    {
     "name": "stdout",
     "output_type": "stream",
     "text": [
      "#####\n",
      "[0, 1, 2, 3, 4, 5, 6, 7, 8, 9]\n",
      "[31, 25, 18, 12, 5, 1, 0, 0, 0, 0]\n"
     ]
    },
    {
     "data": {
      "image/png": "[encoded data removed]",
      "text/plain": [
       "<matplotlib.figure.Figure at 0xa9a7630>"
      ]
     },
     "metadata": {},
     "output_type": "display_data"
    }
   ],
   "source": [
    "%matplotlib inline\n",
    "\n",
    "_,_,_,_,_,_,results,_,_= simulation_deplacement_nb()\n",
    "n = len(results)\n",
    "x = [i for i in range(n)]\n",
    "y = [results[i] for i in range(n)]\n",
    "    \n",
    "print(\"#####\")\n",
    "print(x)\n",
    "print(y)\n",
    "\n",
    "figure()\n",
    "plot(x,y , color=\"red\",  linewidth=2.5, linestyle=\"-\", label=\"sains\")\n",
    "xlabel('étapes')\n",
    "ylabel('nb_sains')\n",
    "ax = gca()\n",
    "ax.spines['right'].set_color('none')\n",
    "ax.spines['top'].set_color('none')\n",
    "ax.xaxis.set_ticks_position('bottom')\n",
    "ax.spines['bottom'].set_position(('data',0))\n",
    "ax.yaxis.set_ticks_position('left')\n",
    "ax.spines['left'].set_position(('data',0))\n",
    "\n",
    "legend(loc='lower right')\n",
    "title('nombre depersonnes saines à chaque étapes')\n",
    "show()"
   ]
  },
  {
   "cell_type": "markdown",
   "metadata": {},
   "source": [
    "# Representation graphique du nombre de personnes rétablies  "
   ]
  },
  {
   "cell_type": "code",
   "execution_count": 109,
   "metadata": {
    "collapsed": true
   },
   "outputs": [],
   "source": [
    "n=5     # taille de la grille\n",
    "p=0.5 #permet d effectuer le deplacement \n",
    "p1=0.5   #probabilite de recuperation \n",
    "p_infect=1   # probabilite de mortalite "
   ]
  },
  {
   "cell_type": "code",
   "execution_count": 110,
   "metadata": {},
   "outputs": [
    {
     "name": "stdout",
     "output_type": "stream",
     "text": [
      "#####\n",
      "[0, 1, 2, 3, 4, 5, 6, 7, 8, 9]\n",
      "[0, 0, 2, 2, 4, 7, 7, 7, 7, 7]\n"
     ]
    },
    {
     "data": {
      "image/png": "[encoded data removed]",
      "text/plain": [
       "<matplotlib.figure.Figure at 0xb971908>"
      ]
     },
     "metadata": {},
     "output_type": "display_data"
    }
   ],
   "source": [
    "%matplotlib inline\n",
    "\n",
    "_,_,_,_,_,_,_ ,results,_= simulation_deplacement_nb()\n",
    "n = len(results)\n",
    "x = [i for i in range(n)]\n",
    "y = [results[i] for i in range(n)]\n",
    "    \n",
    "print(\"#####\")\n",
    "print(x)\n",
    "print(y)\n",
    "\n",
    "figure()\n",
    "plot(x,y , color=\"green\",  linewidth=2.5, linestyle=\"-\", label=\"retabli\")\n",
    "xlabel('étapes')\n",
    "ylabel('nb_rétablis')\n",
    "ax = gca()\n",
    "ax.spines['right'].set_color('none')\n",
    "ax.spines['top'].set_color('none')\n",
    "ax.xaxis.set_ticks_position('bottom')\n",
    "ax.spines['bottom'].set_position(('data',0))\n",
    "ax.yaxis.set_ticks_position('left')\n",
    "ax.spines['left'].set_position(('data',0))\n",
    "\n",
    "legend(loc='lower right')\n",
    "title('le nombre de personnes rétablies à chaque étapes')\n",
    "plt.savefig('graphique_propagation de la grippe espagnole.png', dpi=200)\n",
    "show()"
   ]
  },
  {
   "cell_type": "markdown",
   "metadata": {},
   "source": [
    "# Variation des paramètres"
   ]
  },
  {
   "cell_type": "markdown",
   "metadata": {},
   "source": [
    "# Variation de p1\n",
    "# p1=1  "
   ]
  },
  {
   "cell_type": "code",
   "execution_count": 111,
   "metadata": {
    "collapsed": true
   },
   "outputs": [],
   "source": [
    "n=5\n",
    "p=0.5\n",
    "p1=1       #tous les infectés meurent il n'ya aucune chance pour se rétablir \n",
    "p_infect=1\n",
    "\n",
    "temps_incubation=2"
   ]
  },
  {
   "cell_type": "code",
   "execution_count": 112,
   "metadata": {},
   "outputs": [
    {
     "name": "stdout",
     "output_type": "stream",
     "text": [
      "#####\n",
      "[0, 1, 2, 3, 4, 5, 6, 7, 8, 9]\n",
      "[0, 0, 0, 0, 0, 0, 0, 0, 0, 0]\n"
     ]
    },
    {
     "data": {
      "image/png": "[encoded data removed]",
      "text/plain": [
       "<matplotlib.figure.Figure at 0x5d1ccc0>"
      ]
     },
     "metadata": {},
     "output_type": "display_data"
    }
   ],
   "source": [
    "%matplotlib inline\n",
    "\n",
    "_,_,_,_,_,_,_ ,results,_= simulation_deplacement_nb()\n",
    "n = len(results)\n",
    "x = [i for i in range(n)]\n",
    "y = [results[i] for i in range(n)]\n",
    "    \n",
    "print(\"#####\")\n",
    "print(x)\n",
    "print(y)\n",
    "\n",
    "figure()\n",
    "plot(x,y , color=\"green\",  linewidth=2.5, linestyle=\"-\", label=\"retabli\")\n",
    "xlabel('étapes')\n",
    "ylabel('nb_rétablis')\n",
    "ax = gca()\n",
    "ax.spines['right'].set_color('none')\n",
    "ax.spines['top'].set_color('none')\n",
    "ax.xaxis.set_ticks_position('bottom')\n",
    "ax.spines['bottom'].set_position(('data',0))\n",
    "ax.yaxis.set_ticks_position('left')\n",
    "ax.spines['left'].set_position(('data',0))\n",
    "\n",
    "legend(loc='lower right')\n",
    "title('le nombre de personnes rétablies à chaque étapes')\n",
    "plt.savefig('graphique_propagation de la grippe espagnole.png', dpi=200)\n",
    "show()"
   ]
  },
  {
   "cell_type": "markdown",
   "metadata": {},
   "source": [
    "# p1=0"
   ]
  },
  {
   "cell_type": "code",
   "execution_count": 113,
   "metadata": {
    "collapsed": true
   },
   "outputs": [],
   "source": [
    "n=5\n",
    "p=0.5\n",
    "p1=-0\n",
    "p_infect=1\n",
    "temps_incubation=2"
   ]
  },
  {
   "cell_type": "code",
   "execution_count": 114,
   "metadata": {},
   "outputs": [
    {
     "name": "stdout",
     "output_type": "stream",
     "text": [
      "#####\n",
      "[0, 1, 2, 3, 4, 5, 6, 7, 8, 9]\n",
      "[1, 15, 16, 16, 16, 16, 16, 16, 16, 16]\n"
     ]
    },
    {
     "data": {
      "image/png": "[encoded data removed]",
      "text/plain": [
       "<matplotlib.figure.Figure at 0xb971898>"
      ]
     },
     "metadata": {},
     "output_type": "display_data"
    }
   ],
   "source": [
    "%matplotlib inline\n",
    "\n",
    "_,_,_,_,_,_,_ ,results,_= simulation_deplacement_nb()\n",
    "n = len(results)\n",
    "x = [i for i in range(n)]\n",
    "y = [results[i] for i in range(n)]\n",
    "    \n",
    "print(\"#####\")\n",
    "print(x)\n",
    "print(y)\n",
    "\n",
    "figure()\n",
    "plot(x,y , color=\"green\",  linewidth=2.5, linestyle=\"-\", label=\"retabli\")\n",
    "xlabel('étapes')\n",
    "ylabel('nb_rétablis')\n",
    "ax = gca()\n",
    "ax.spines['right'].set_color('none')\n",
    "ax.spines['top'].set_color('none')\n",
    "ax.xaxis.set_ticks_position('bottom')\n",
    "ax.spines['bottom'].set_position(('data',0))\n",
    "ax.yaxis.set_ticks_position('left')\n",
    "ax.spines['left'].set_position(('data',0))\n",
    "\n",
    "legend(loc='lower right')\n",
    "title('le nombre de personnes rétablies à chaque étapes')\n",
    "plt.savefig('graphique_propagation de la grippe espagnole.png', dpi=200)\n",
    "show()"
   ]
  },
  {
   "cell_type": "markdown",
   "metadata": {},
   "source": [
    "# Variation de p_infect"
   ]
  },
  {
   "cell_type": "code",
   "execution_count": 117,
   "metadata": {
    "collapsed": true
   },
   "outputs": [],
   "source": [
    "n=5\n",
    "p=0.5\n",
    "p1=0.5\n",
    "p_infect=0.4\n",
    "temps_incubation=2"
   ]
  },
  {
   "cell_type": "code",
   "execution_count": 118,
   "metadata": {},
   "outputs": [
    {
     "name": "stdout",
     "output_type": "stream",
     "text": [
      "#####\n",
      "[0, 1, 2, 3, 4, 5, 6, 7, 8, 9]\n",
      "[1, 3, 3, 3, 3, 3, 3, 3, 3, 3]\n"
     ]
    },
    {
     "data": {
      "image/png": "[encoded data removed]",
      "text/plain": [
       "<matplotlib.figure.Figure at 0x91c0208>"
      ]
     },
     "metadata": {},
     "output_type": "display_data"
    }
   ],
   "source": [
    "%matplotlib inline\n",
    "\n",
    "_,_,_,_,_,_,_ ,results,_= simulation_deplacement_nb()\n",
    "n = len(results)\n",
    "x = [i for i in range(n)]\n",
    "y = [results[i] for i in range(n)]\n",
    "    \n",
    "print(\"#####\")\n",
    "print(x)\n",
    "print(y)\n",
    "\n",
    "figure()\n",
    "plot(x,y , color=\"green\",  linewidth=2.5, linestyle=\"-\", label=\"retabli\")\n",
    "xlabel('étapes')\n",
    "ylabel('nb_rétablis')\n",
    "ax = gca()\n",
    "ax.spines['right'].set_color('none')\n",
    "ax.spines['top'].set_color('none')\n",
    "ax.xaxis.set_ticks_position('bottom')\n",
    "ax.spines['bottom'].set_position(('data',0))\n",
    "ax.yaxis.set_ticks_position('left')\n",
    "ax.spines['left'].set_position(('data',0))\n",
    "\n",
    "legend(loc='lower right')\n",
    "title('le nombre de personnes rétablies à chaque étapes')\n",
    "show()"
   ]
  },
  {
   "cell_type": "markdown",
   "metadata": {},
   "source": [
    "# p_infect=0.8"
   ]
  },
  {
   "cell_type": "code",
   "execution_count": 123,
   "metadata": {
    "collapsed": true
   },
   "outputs": [],
   "source": [
    "n=5\n",
    "p=0.5\n",
    "p1=0.5\n",
    "p_infect=0.8\n",
    "temps_incubation=2"
   ]
  },
  {
   "cell_type": "code",
   "execution_count": 124,
   "metadata": {},
   "outputs": [
    {
     "name": "stdout",
     "output_type": "stream",
     "text": [
      "#####\n",
      "[0, 1, 2, 3, 4, 5, 6, 7, 8, 9]\n",
      "[1, 3, 6, 6, 6, 6, 6, 6, 6, 6]\n"
     ]
    },
    {
     "data": {
      "image/png": "[encoded data removed]",
      "text/plain": [
       "<matplotlib.figure.Figure at 0xb591780>"
      ]
     },
     "metadata": {},
     "output_type": "display_data"
    }
   ],
   "source": [
    "%matplotlib inline\n",
    "\n",
    "_,_,_,_,_,_,_ ,results,_= simulation_deplacement_nb()\n",
    "n = len(results)\n",
    "x = [i for i in range(n)]\n",
    "y = [results[i] for i in range(n)]\n",
    "    \n",
    "print(\"#####\")\n",
    "print(x)\n",
    "print(y)\n",
    "\n",
    "figure()\n",
    "plot(x,y , color=\"green\",  linewidth=2.5, linestyle=\"-\", label=\"retabli\")\n",
    "xlabel('étapes')\n",
    "ylabel('nb_rétablis')\n",
    "ax = gca()\n",
    "ax.spines['right'].set_color('none')\n",
    "ax.spines['top'].set_color('none')\n",
    "ax.xaxis.set_ticks_position('bottom')\n",
    "ax.spines['bottom'].set_position(('data',0))\n",
    "ax.yaxis.set_ticks_position('left')\n",
    "ax.spines['left'].set_position(('data',0))\n",
    "\n",
    "legend(loc='lower right')\n",
    "title('le nombre de personnes rétablies à chaque étapes')\n",
    "show()"
   ]
  },
  {
   "cell_type": "markdown",
   "metadata": {},
   "source": [
    "# Representation graphique du nombre de personnes mortes "
   ]
  },
  {
   "cell_type": "code",
   "execution_count": 130,
   "metadata": {
    "collapsed": true
   },
   "outputs": [],
   "source": [
    "n=5     # taille de la grille\n",
    "p=0.5 #permet d effectuer le deplacement \n",
    "p1=0.5   #probabilite de recuperation \n",
    "p_infect=1   # probabilite de mortalite "
   ]
  },
  {
   "cell_type": "code",
   "execution_count": 131,
   "metadata": {},
   "outputs": [
    {
     "name": "stdout",
     "output_type": "stream",
     "text": [
      "#####\n",
      "[0, 1, 2, 3, 4, 5, 6, 7, 8, 9]\n",
      "[1, 9, 9, 9, 9, 9, 9, 9, 9, 9]\n"
     ]
    },
    {
     "data": {
      "image/png": "[encoded data removed]",
      "text/plain": [
       "<matplotlib.figure.Figure at 0x95b9a90>"
      ]
     },
     "metadata": {},
     "output_type": "display_data"
    }
   ],
   "source": [
    "%matplotlib inline\n",
    "\n",
    "_,_,_,_,_,_,_ ,_,results= simulation_deplacement_nb()\n",
    "n = len(results)\n",
    "x = [i for i in range(n)]\n",
    "y = [results[i] for i in range(n)]\n",
    "    \n",
    "print(\"#####\")\n",
    "print(x)\n",
    "print(y)\n",
    "\n",
    "figure()\n",
    "plot(x,y , color=\"black\",  linewidth=2.5, linestyle=\"-\", label=\"mort\")\n",
    "xlabel('étapes')\n",
    "ylabel('nb_morts')\n",
    "ax = gca()\n",
    "ax.spines['right'].set_color('none')\n",
    "ax.spines['top'].set_color('none')\n",
    "ax.xaxis.set_ticks_position('bottom')\n",
    "ax.spines['bottom'].set_position(('data',0))\n",
    "ax.yaxis.set_ticks_position('left')\n",
    "ax.spines['left'].set_position(('data',0))\n",
    "\n",
    "legend(loc='lower right')\n",
    "title('le nombre de personnes mortes à chaque étapes')\n",
    "plt.savefig('graphique_propagation de la grippe espagnole.png', dpi=200)\n",
    "show()"
   ]
  },
  {
   "cell_type": "markdown",
   "metadata": {
    "collapsed": true
   },
   "source": [
    "# Variation des paramètres"
   ]
  },
  {
   "cell_type": "markdown",
   "metadata": {},
   "source": [
    "# Variation de p1"
   ]
  },
  {
   "cell_type": "markdown",
   "metadata": {},
   "source": [
    "# p1=0.9 #forte chanse que tous les infectés soient morts"
   ]
  },
  {
   "cell_type": "code",
   "execution_count": 133,
   "metadata": {
    "collapsed": true
   },
   "outputs": [],
   "source": [
    "n=5\n",
    "p=0.5\n",
    "p1=0.9\n",
    "p_infect=0.8\n",
    "temps_incubation=2"
   ]
  },
  {
   "cell_type": "code",
   "execution_count": 134,
   "metadata": {},
   "outputs": [
    {
     "name": "stdout",
     "output_type": "stream",
     "text": [
      "#####\n",
      "[0, 1, 2, 3, 4, 5, 6, 7, 8, 9]\n",
      "[0, 10, 12, 12, 12, 12, 12, 12, 12, 12]\n"
     ]
    },
    {
     "data": {
      "image/png": "[encoded data removed]",
      "text/plain": [
       "<matplotlib.figure.Figure at 0xb94d9e8>"
      ]
     },
     "metadata": {},
     "output_type": "display_data"
    }
   ],
   "source": [
    "%matplotlib inline\n",
    "\n",
    "_,_,_,_,_,_,_ ,_,results= simulation_deplacement_nb()\n",
    "n = len(results)\n",
    "x = [i for i in range(n)]\n",
    "y = [results[i] for i in range(n)]\n",
    "    \n",
    "print(\"#####\")\n",
    "print(x)\n",
    "print(y)\n",
    "\n",
    "figure()\n",
    "plot(x,y , color=\"black\",  linewidth=2.5, linestyle=\"-\", label=\"mort\")\n",
    "xlabel('étapes')\n",
    "ylabel('nb_morts')\n",
    "ax = gca()\n",
    "ax.spines['right'].set_color('none')\n",
    "ax.spines['top'].set_color('none')\n",
    "ax.xaxis.set_ticks_position('bottom')\n",
    "ax.spines['bottom'].set_position(('data',0))\n",
    "ax.yaxis.set_ticks_position('left')\n",
    "ax.spines['left'].set_position(('data',0))\n",
    "\n",
    "legend(loc='lower right')\n",
    "title('le nombre de personnes mortes à chaque étapes')\n",
    "plt.savefig('graphique_propagation de la grippe espagnole.png', dpi=200)\n",
    "show()"
   ]
  },
  {
   "cell_type": "markdown",
   "metadata": {},
   "source": [
    "# p1=0.1"
   ]
  },
  {
   "cell_type": "code",
   "execution_count": 135,
   "metadata": {
    "collapsed": true
   },
   "outputs": [],
   "source": [
    "n=5\n",
    "p=0.5\n",
    "p1=0.1\n",
    "p_infect=0.8\n",
    "temps_incubation=2"
   ]
  },
  {
   "cell_type": "code",
   "execution_count": 136,
   "metadata": {},
   "outputs": [
    {
     "name": "stdout",
     "output_type": "stream",
     "text": [
      "#####\n",
      "[0, 1, 2, 3, 4, 5, 6, 7, 8, 9]\n",
      "[0, 3, 3, 3, 3, 3, 3, 3, 3, 3]\n"
     ]
    },
    {
     "data": {
      "image/png": "[encoded data removed]",
      "text/plain": [
       "<matplotlib.figure.Figure at 0x8f64f60>"
      ]
     },
     "metadata": {},
     "output_type": "display_data"
    }
   ],
   "source": [
    "%matplotlib inline\n",
    "\n",
    "_,_,_,_,_,_,_ ,_,results= simulation_deplacement_nb()\n",
    "n = len(results)\n",
    "x = [i for i in range(n)]\n",
    "y = [results[i] for i in range(n)]\n",
    "    \n",
    "print(\"#####\")\n",
    "print(x)\n",
    "print(y)\n",
    "\n",
    "figure()\n",
    "plot(x,y , color=\"black\",  linewidth=2.5, linestyle=\"-\", label=\"mort\")\n",
    "xlabel('étapes')\n",
    "ylabel('nb_morts')\n",
    "ax = gca()\n",
    "ax.spines['right'].set_color('none')\n",
    "ax.spines['top'].set_color('none')\n",
    "ax.xaxis.set_ticks_position('bottom')\n",
    "ax.spines['bottom'].set_position(('data',0))\n",
    "ax.yaxis.set_ticks_position('left')\n",
    "ax.spines['left'].set_position(('data',0))\n",
    "\n",
    "legend(loc='lower right')\n",
    "title('le nombre de personnes mortes à chaque étapes')\n",
    "plt.savefig('graphique_propagation de la grippe espagnole.png', dpi=200)\n",
    "\n",
    "show()"
   ]
  },
  {
   "cell_type": "code",
   "execution_count": null,
   "metadata": {
    "collapsed": true
   },
   "outputs": [],
   "source": []
  }
 ],
 "metadata": {
  "kernelspec": {
   "display_name": "Python 3",
   "language": "python",
   "name": "python3"
  },
  "language_info": {
   "codemirror_mode": {
    "name": "ipython",
    "version": 3
   },
   "file_extension": ".py",
   "mimetype": "text/x-python",
   "name": "python",
   "nbconvert_exporter": "python",
   "pygments_lexer": "ipython3",
   "version": "3.6.3"
  }
 },
 "nbformat": 4,
 "nbformat_minor": 2
}
